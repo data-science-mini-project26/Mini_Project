{
 "cells": [
  {
   "cell_type": "code",
   "execution_count": 4,
   "id": "ed467b00",
   "metadata": {},
   "outputs": [
    {
     "name": "stdout",
     "output_type": "stream",
     "text": [
      "2022-01-04\n",
      "2022-01-05\n",
      "2022-01-06\n",
      "2022-01-07\n",
      "2022-01-10\n",
      "2022-01-11\n",
      "2022-01-12\n",
      "2022-01-13\n",
      "2022-01-14\n",
      "2022-01-17\n",
      "2022-01-18\n",
      "2022-01-19\n",
      "2022-01-20\n",
      "2022-01-21\n",
      "2022-01-24\n",
      "2022-01-25\n",
      "2022-01-26\n",
      "2022-01-27\n",
      "2022-01-28\n",
      "2022-01-31\n",
      "2022-02-01\n",
      "2022-02-02\n",
      "2022-02-03\n",
      "2022-02-04\n",
      "2022-02-07\n",
      "2022-02-08\n",
      "2022-02-09\n",
      "2022-02-10\n",
      "2022-02-11\n",
      "2022-02-14\n",
      "2022-02-15\n",
      "2022-02-16\n",
      "2022-02-17\n",
      "2022-02-18\n",
      "2022-02-21\n",
      "2022-02-22\n",
      "2022-02-23\n",
      "2022-02-24\n",
      "2022-02-25\n",
      "2022-03-01\n",
      "2022-03-02\n",
      "2022-03-03\n",
      "2022-03-04\n",
      "2022-03-07\n",
      "2022-03-08\n",
      "2022-03-09\n",
      "2022-03-10\n",
      "2022-03-11\n",
      "2022-03-14\n",
      "2022-03-15\n",
      "2022-03-16\n",
      "2022-03-17\n",
      "2022-03-18\n",
      "2022-03-21\n",
      "2022-03-22\n",
      "2022-03-23\n",
      "2022-03-24\n",
      "2022-03-25\n",
      "2022-03-28\n",
      "2022-03-29\n",
      "2022-03-30\n",
      "2022-03-31\n",
      "2022-04-01\n",
      "2022-04-04\n",
      "2022-04-05\n",
      "2022-04-06\n",
      "2022-04-07\n",
      "2022-04-08\n",
      "2022-04-11\n",
      "2022-04-12\n",
      "2022-04-13\n",
      "2022-04-14\n",
      "2022-04-19\n",
      "2022-04-20\n",
      "2022-04-21\n",
      "2022-04-22\n",
      "2022-04-25\n",
      "2022-04-26\n",
      "2022-04-27\n",
      "2022-04-28\n",
      "2022-04-29\n"
     ]
    }
   ],
   "source": [
    "import pandas as pd\n",
    "import time \n",
    "rng = pd.date_range('2022/01/04','2022/04/29' ,freq='D').strftime('%Y-%m-%d').tolist()\n",
    "rng.remove('2022-02-28')\n",
    "rng.remove('2022-04-15')\n",
    "rng.remove('2022-04-18')\n",
    "data_list = []\n",
    "for date in rng:\n",
    "    if time.strptime(date,'%Y-%m-%d').tm_wday<5:\n",
    "        print(date)\n",
    "        ##print('https://dsc-mp2022.s3.amazonaws.com/proj-b/dataset-b01/Tst{}tapes.csv'.format(date))\n",
    "        tmp = pd.read_csv('https://dsc-mp2022.s3.amazonaws.com/proj-b/dataset-b01/Tst{}tapes.csv'.format(date),header=  None)\n",
    "        data_list.append(tmp)"
   ]
  },
  {
   "cell_type": "code",
   "execution_count": 5,
   "id": "6e299d13",
   "metadata": {},
   "outputs": [],
   "source": [
    "afterday_set = pd.concat(data_list,ignore_index = True)"
   ]
  },
  {
   "cell_type": "code",
   "execution_count": 6,
   "id": "9a668f2a",
   "metadata": {},
   "outputs": [
    {
     "data": {
      "text/html": [
       "<div>\n",
       "<style scoped>\n",
       "    .dataframe tbody tr th:only-of-type {\n",
       "        vertical-align: middle;\n",
       "    }\n",
       "\n",
       "    .dataframe tbody tr th {\n",
       "        vertical-align: top;\n",
       "    }\n",
       "\n",
       "    .dataframe thead th {\n",
       "        text-align: right;\n",
       "    }\n",
       "</style>\n",
       "<table border=\"1\" class=\"dataframe\">\n",
       "  <thead>\n",
       "    <tr style=\"text-align: right;\">\n",
       "      <th></th>\n",
       "      <th>0</th>\n",
       "      <th>1</th>\n",
       "      <th>2</th>\n",
       "      <th>3</th>\n",
       "      <th>4</th>\n",
       "      <th>5</th>\n",
       "      <th>6</th>\n",
       "      <th>7</th>\n",
       "      <th>8</th>\n",
       "      <th>9</th>\n",
       "      <th>10</th>\n",
       "    </tr>\n",
       "  </thead>\n",
       "  <tbody>\n",
       "    <tr>\n",
       "      <th>0</th>\n",
       "      <td>Tst2022-01-04</td>\n",
       "      <td>Exch0Lit</td>\n",
       "      <td>8.192</td>\n",
       "      <td>203</td>\n",
       "      <td>{'pool_id': 'Exch0Lit'</td>\n",
       "      <td>'type': 'Trade'</td>\n",
       "      <td>'time': 8.192</td>\n",
       "      <td>'price': 203</td>\n",
       "      <td>'qty': 2</td>\n",
       "      <td>'party1': 'S26'</td>\n",
       "      <td>'party2': 'B24'}</td>\n",
       "    </tr>\n",
       "    <tr>\n",
       "      <th>1</th>\n",
       "      <td>Tst2022-01-04</td>\n",
       "      <td>Exch0Lit</td>\n",
       "      <td>8.192</td>\n",
       "      <td>199</td>\n",
       "      <td>{'pool_id': 'Exch0Lit'</td>\n",
       "      <td>'type': 'Trade'</td>\n",
       "      <td>'time': 8.192</td>\n",
       "      <td>'price': 199</td>\n",
       "      <td>'qty': 3</td>\n",
       "      <td>'party1': 'S26'</td>\n",
       "      <td>'party2': 'B08'}</td>\n",
       "    </tr>\n",
       "    <tr>\n",
       "      <th>2</th>\n",
       "      <td>Tst2022-01-04</td>\n",
       "      <td>Exch0Lit</td>\n",
       "      <td>10.336</td>\n",
       "      <td>196</td>\n",
       "      <td>{'pool_id': 'Exch0Lit'</td>\n",
       "      <td>'type': 'Trade'</td>\n",
       "      <td>'time': 10.336</td>\n",
       "      <td>'price': 196</td>\n",
       "      <td>'qty': 3</td>\n",
       "      <td>'party1': 'S06'</td>\n",
       "      <td>'party2': 'B07'}</td>\n",
       "    </tr>\n",
       "    <tr>\n",
       "      <th>3</th>\n",
       "      <td>Tst2022-01-04</td>\n",
       "      <td>Exch0Lit</td>\n",
       "      <td>10.672</td>\n",
       "      <td>196</td>\n",
       "      <td>{'pool_id': 'Exch0Lit'</td>\n",
       "      <td>'type': 'Trade'</td>\n",
       "      <td>'time': 10.672</td>\n",
       "      <td>'price': 196</td>\n",
       "      <td>'qty': 4</td>\n",
       "      <td>'party1': 'S01'</td>\n",
       "      <td>'party2': 'B01'}</td>\n",
       "    </tr>\n",
       "    <tr>\n",
       "      <th>4</th>\n",
       "      <td>Tst2022-01-04</td>\n",
       "      <td>Exch0Lit</td>\n",
       "      <td>11.040</td>\n",
       "      <td>201</td>\n",
       "      <td>{'pool_id': 'Exch0Lit'</td>\n",
       "      <td>'type': 'Trade'</td>\n",
       "      <td>'time': 11.04</td>\n",
       "      <td>'price': 201</td>\n",
       "      <td>'qty': 1</td>\n",
       "      <td>'party1': 'S12'</td>\n",
       "      <td>'party2': 'B31'}</td>\n",
       "    </tr>\n",
       "    <tr>\n",
       "      <th>...</th>\n",
       "      <td>...</td>\n",
       "      <td>...</td>\n",
       "      <td>...</td>\n",
       "      <td>...</td>\n",
       "      <td>...</td>\n",
       "      <td>...</td>\n",
       "      <td>...</td>\n",
       "      <td>...</td>\n",
       "      <td>...</td>\n",
       "      <td>...</td>\n",
       "      <td>...</td>\n",
       "    </tr>\n",
       "    <tr>\n",
       "      <th>5230359</th>\n",
       "      <td>Tst2022-04-29</td>\n",
       "      <td>Exch0Lit</td>\n",
       "      <td>30599.376</td>\n",
       "      <td>134</td>\n",
       "      <td>{'pool_id': 'Exch0Lit'</td>\n",
       "      <td>'type': 'Trade'</td>\n",
       "      <td>'time': 30599.376</td>\n",
       "      <td>'price': 134</td>\n",
       "      <td>'qty': 1</td>\n",
       "      <td>'party1': 'S21'</td>\n",
       "      <td>'party2': 'B07'}</td>\n",
       "    </tr>\n",
       "    <tr>\n",
       "      <th>5230360</th>\n",
       "      <td>Tst2022-04-29</td>\n",
       "      <td>Exch0Lit</td>\n",
       "      <td>30599.520</td>\n",
       "      <td>134</td>\n",
       "      <td>{'pool_id': 'Exch0Lit'</td>\n",
       "      <td>'type': 'Trade'</td>\n",
       "      <td>'time': 30599.52</td>\n",
       "      <td>'price': 134</td>\n",
       "      <td>'qty': 1</td>\n",
       "      <td>'party1': 'S03'</td>\n",
       "      <td>'party2': 'B07'}</td>\n",
       "    </tr>\n",
       "    <tr>\n",
       "      <th>5230361</th>\n",
       "      <td>Tst2022-04-29</td>\n",
       "      <td>Exch0Lit</td>\n",
       "      <td>30599.584</td>\n",
       "      <td>134</td>\n",
       "      <td>{'pool_id': 'Exch0Lit'</td>\n",
       "      <td>'type': 'Trade'</td>\n",
       "      <td>'time': 30599.584</td>\n",
       "      <td>'price': 134</td>\n",
       "      <td>'qty': 1</td>\n",
       "      <td>'party1': 'S28'</td>\n",
       "      <td>'party2': 'B01'}</td>\n",
       "    </tr>\n",
       "    <tr>\n",
       "      <th>5230362</th>\n",
       "      <td>Tst2022-04-29</td>\n",
       "      <td>Exch0Lit</td>\n",
       "      <td>30599.776</td>\n",
       "      <td>134</td>\n",
       "      <td>{'pool_id': 'Exch0Lit'</td>\n",
       "      <td>'type': 'Trade'</td>\n",
       "      <td>'time': 30599.776</td>\n",
       "      <td>'price': 134</td>\n",
       "      <td>'qty': 3</td>\n",
       "      <td>'party1': 'S04'</td>\n",
       "      <td>'party2': 'B01'}</td>\n",
       "    </tr>\n",
       "    <tr>\n",
       "      <th>5230363</th>\n",
       "      <td>Tst2022-04-29</td>\n",
       "      <td>Exch0Lit</td>\n",
       "      <td>30599.776</td>\n",
       "      <td>133</td>\n",
       "      <td>{'pool_id': 'Exch0Lit'</td>\n",
       "      <td>'type': 'Trade'</td>\n",
       "      <td>'time': 30599.776</td>\n",
       "      <td>'price': 133</td>\n",
       "      <td>'qty': 1</td>\n",
       "      <td>'party1': 'S04'</td>\n",
       "      <td>'party2': 'B19'}</td>\n",
       "    </tr>\n",
       "  </tbody>\n",
       "</table>\n",
       "<p>5230364 rows × 11 columns</p>\n",
       "</div>"
      ],
      "text/plain": [
       "                    0          1          2    3                        4   \\\n",
       "0        Tst2022-01-04   Exch0Lit      8.192  203   {'pool_id': 'Exch0Lit'   \n",
       "1        Tst2022-01-04   Exch0Lit      8.192  199   {'pool_id': 'Exch0Lit'   \n",
       "2        Tst2022-01-04   Exch0Lit     10.336  196   {'pool_id': 'Exch0Lit'   \n",
       "3        Tst2022-01-04   Exch0Lit     10.672  196   {'pool_id': 'Exch0Lit'   \n",
       "4        Tst2022-01-04   Exch0Lit     11.040  201   {'pool_id': 'Exch0Lit'   \n",
       "...                ...        ...        ...  ...                      ...   \n",
       "5230359  Tst2022-04-29   Exch0Lit  30599.376  134   {'pool_id': 'Exch0Lit'   \n",
       "5230360  Tst2022-04-29   Exch0Lit  30599.520  134   {'pool_id': 'Exch0Lit'   \n",
       "5230361  Tst2022-04-29   Exch0Lit  30599.584  134   {'pool_id': 'Exch0Lit'   \n",
       "5230362  Tst2022-04-29   Exch0Lit  30599.776  134   {'pool_id': 'Exch0Lit'   \n",
       "5230363  Tst2022-04-29   Exch0Lit  30599.776  133   {'pool_id': 'Exch0Lit'   \n",
       "\n",
       "                       5                   6              7          8   \\\n",
       "0         'type': 'Trade'       'time': 8.192   'price': 203   'qty': 2   \n",
       "1         'type': 'Trade'       'time': 8.192   'price': 199   'qty': 3   \n",
       "2         'type': 'Trade'      'time': 10.336   'price': 196   'qty': 3   \n",
       "3         'type': 'Trade'      'time': 10.672   'price': 196   'qty': 4   \n",
       "4         'type': 'Trade'       'time': 11.04   'price': 201   'qty': 1   \n",
       "...                   ...                 ...            ...        ...   \n",
       "5230359   'type': 'Trade'   'time': 30599.376   'price': 134   'qty': 1   \n",
       "5230360   'type': 'Trade'    'time': 30599.52   'price': 134   'qty': 1   \n",
       "5230361   'type': 'Trade'   'time': 30599.584   'price': 134   'qty': 1   \n",
       "5230362   'type': 'Trade'   'time': 30599.776   'price': 134   'qty': 3   \n",
       "5230363   'type': 'Trade'   'time': 30599.776   'price': 133   'qty': 1   \n",
       "\n",
       "                       9                  10  \n",
       "0         'party1': 'S26'   'party2': 'B24'}  \n",
       "1         'party1': 'S26'   'party2': 'B08'}  \n",
       "2         'party1': 'S06'   'party2': 'B07'}  \n",
       "3         'party1': 'S01'   'party2': 'B01'}  \n",
       "4         'party1': 'S12'   'party2': 'B31'}  \n",
       "...                   ...                ...  \n",
       "5230359   'party1': 'S21'   'party2': 'B07'}  \n",
       "5230360   'party1': 'S03'   'party2': 'B07'}  \n",
       "5230361   'party1': 'S28'   'party2': 'B01'}  \n",
       "5230362   'party1': 'S04'   'party2': 'B01'}  \n",
       "5230363   'party1': 'S04'   'party2': 'B19'}  \n",
       "\n",
       "[5230364 rows x 11 columns]"
      ]
     },
     "execution_count": 6,
     "metadata": {},
     "output_type": "execute_result"
    }
   ],
   "source": [
    "afterday_set"
   ]
  },
  {
   "cell_type": "code",
   "execution_count": 7,
   "id": "4001bee0",
   "metadata": {},
   "outputs": [],
   "source": [
    "afterday_set['index']= afterday_set.index"
   ]
  },
  {
   "cell_type": "code",
   "execution_count": 9,
   "id": "ecf34726",
   "metadata": {},
   "outputs": [],
   "source": [
    "data = afterday_set"
   ]
  },
  {
   "cell_type": "code",
   "execution_count": 10,
   "id": "90223061",
   "metadata": {},
   "outputs": [
    {
     "data": {
      "text/html": [
       "<div>\n",
       "<style scoped>\n",
       "    .dataframe tbody tr th:only-of-type {\n",
       "        vertical-align: middle;\n",
       "    }\n",
       "\n",
       "    .dataframe tbody tr th {\n",
       "        vertical-align: top;\n",
       "    }\n",
       "\n",
       "    .dataframe thead th {\n",
       "        text-align: right;\n",
       "    }\n",
       "</style>\n",
       "<table border=\"1\" class=\"dataframe\">\n",
       "  <thead>\n",
       "    <tr style=\"text-align: right;\">\n",
       "      <th></th>\n",
       "      <th>0</th>\n",
       "      <th>1</th>\n",
       "      <th>2</th>\n",
       "      <th>3</th>\n",
       "      <th>4</th>\n",
       "      <th>5</th>\n",
       "      <th>6</th>\n",
       "      <th>7</th>\n",
       "      <th>8</th>\n",
       "      <th>9</th>\n",
       "      <th>10</th>\n",
       "      <th>index</th>\n",
       "    </tr>\n",
       "  </thead>\n",
       "  <tbody>\n",
       "    <tr>\n",
       "      <th>0</th>\n",
       "      <td>Tst2022-01-04</td>\n",
       "      <td>Exch0Lit</td>\n",
       "      <td>8.192</td>\n",
       "      <td>203</td>\n",
       "      <td>{'pool_id': 'Exch0Lit'</td>\n",
       "      <td>'type': 'Trade'</td>\n",
       "      <td>'time': 8.192</td>\n",
       "      <td>'price': 203</td>\n",
       "      <td>'qty': 2</td>\n",
       "      <td>'party1': 'S26'</td>\n",
       "      <td>'party2': 'B24'}</td>\n",
       "      <td>0</td>\n",
       "    </tr>\n",
       "    <tr>\n",
       "      <th>1</th>\n",
       "      <td>Tst2022-01-04</td>\n",
       "      <td>Exch0Lit</td>\n",
       "      <td>8.192</td>\n",
       "      <td>199</td>\n",
       "      <td>{'pool_id': 'Exch0Lit'</td>\n",
       "      <td>'type': 'Trade'</td>\n",
       "      <td>'time': 8.192</td>\n",
       "      <td>'price': 199</td>\n",
       "      <td>'qty': 3</td>\n",
       "      <td>'party1': 'S26'</td>\n",
       "      <td>'party2': 'B08'}</td>\n",
       "      <td>1</td>\n",
       "    </tr>\n",
       "    <tr>\n",
       "      <th>2</th>\n",
       "      <td>Tst2022-01-04</td>\n",
       "      <td>Exch0Lit</td>\n",
       "      <td>10.336</td>\n",
       "      <td>196</td>\n",
       "      <td>{'pool_id': 'Exch0Lit'</td>\n",
       "      <td>'type': 'Trade'</td>\n",
       "      <td>'time': 10.336</td>\n",
       "      <td>'price': 196</td>\n",
       "      <td>'qty': 3</td>\n",
       "      <td>'party1': 'S06'</td>\n",
       "      <td>'party2': 'B07'}</td>\n",
       "      <td>2</td>\n",
       "    </tr>\n",
       "    <tr>\n",
       "      <th>3</th>\n",
       "      <td>Tst2022-01-04</td>\n",
       "      <td>Exch0Lit</td>\n",
       "      <td>10.672</td>\n",
       "      <td>196</td>\n",
       "      <td>{'pool_id': 'Exch0Lit'</td>\n",
       "      <td>'type': 'Trade'</td>\n",
       "      <td>'time': 10.672</td>\n",
       "      <td>'price': 196</td>\n",
       "      <td>'qty': 4</td>\n",
       "      <td>'party1': 'S01'</td>\n",
       "      <td>'party2': 'B01'}</td>\n",
       "      <td>3</td>\n",
       "    </tr>\n",
       "    <tr>\n",
       "      <th>4</th>\n",
       "      <td>Tst2022-01-04</td>\n",
       "      <td>Exch0Lit</td>\n",
       "      <td>11.040</td>\n",
       "      <td>201</td>\n",
       "      <td>{'pool_id': 'Exch0Lit'</td>\n",
       "      <td>'type': 'Trade'</td>\n",
       "      <td>'time': 11.04</td>\n",
       "      <td>'price': 201</td>\n",
       "      <td>'qty': 1</td>\n",
       "      <td>'party1': 'S12'</td>\n",
       "      <td>'party2': 'B31'}</td>\n",
       "      <td>4</td>\n",
       "    </tr>\n",
       "    <tr>\n",
       "      <th>...</th>\n",
       "      <td>...</td>\n",
       "      <td>...</td>\n",
       "      <td>...</td>\n",
       "      <td>...</td>\n",
       "      <td>...</td>\n",
       "      <td>...</td>\n",
       "      <td>...</td>\n",
       "      <td>...</td>\n",
       "      <td>...</td>\n",
       "      <td>...</td>\n",
       "      <td>...</td>\n",
       "      <td>...</td>\n",
       "    </tr>\n",
       "    <tr>\n",
       "      <th>5230359</th>\n",
       "      <td>Tst2022-04-29</td>\n",
       "      <td>Exch0Lit</td>\n",
       "      <td>30599.376</td>\n",
       "      <td>134</td>\n",
       "      <td>{'pool_id': 'Exch0Lit'</td>\n",
       "      <td>'type': 'Trade'</td>\n",
       "      <td>'time': 30599.376</td>\n",
       "      <td>'price': 134</td>\n",
       "      <td>'qty': 1</td>\n",
       "      <td>'party1': 'S21'</td>\n",
       "      <td>'party2': 'B07'}</td>\n",
       "      <td>5230359</td>\n",
       "    </tr>\n",
       "    <tr>\n",
       "      <th>5230360</th>\n",
       "      <td>Tst2022-04-29</td>\n",
       "      <td>Exch0Lit</td>\n",
       "      <td>30599.520</td>\n",
       "      <td>134</td>\n",
       "      <td>{'pool_id': 'Exch0Lit'</td>\n",
       "      <td>'type': 'Trade'</td>\n",
       "      <td>'time': 30599.52</td>\n",
       "      <td>'price': 134</td>\n",
       "      <td>'qty': 1</td>\n",
       "      <td>'party1': 'S03'</td>\n",
       "      <td>'party2': 'B07'}</td>\n",
       "      <td>5230360</td>\n",
       "    </tr>\n",
       "    <tr>\n",
       "      <th>5230361</th>\n",
       "      <td>Tst2022-04-29</td>\n",
       "      <td>Exch0Lit</td>\n",
       "      <td>30599.584</td>\n",
       "      <td>134</td>\n",
       "      <td>{'pool_id': 'Exch0Lit'</td>\n",
       "      <td>'type': 'Trade'</td>\n",
       "      <td>'time': 30599.584</td>\n",
       "      <td>'price': 134</td>\n",
       "      <td>'qty': 1</td>\n",
       "      <td>'party1': 'S28'</td>\n",
       "      <td>'party2': 'B01'}</td>\n",
       "      <td>5230361</td>\n",
       "    </tr>\n",
       "    <tr>\n",
       "      <th>5230362</th>\n",
       "      <td>Tst2022-04-29</td>\n",
       "      <td>Exch0Lit</td>\n",
       "      <td>30599.776</td>\n",
       "      <td>134</td>\n",
       "      <td>{'pool_id': 'Exch0Lit'</td>\n",
       "      <td>'type': 'Trade'</td>\n",
       "      <td>'time': 30599.776</td>\n",
       "      <td>'price': 134</td>\n",
       "      <td>'qty': 3</td>\n",
       "      <td>'party1': 'S04'</td>\n",
       "      <td>'party2': 'B01'}</td>\n",
       "      <td>5230362</td>\n",
       "    </tr>\n",
       "    <tr>\n",
       "      <th>5230363</th>\n",
       "      <td>Tst2022-04-29</td>\n",
       "      <td>Exch0Lit</td>\n",
       "      <td>30599.776</td>\n",
       "      <td>133</td>\n",
       "      <td>{'pool_id': 'Exch0Lit'</td>\n",
       "      <td>'type': 'Trade'</td>\n",
       "      <td>'time': 30599.776</td>\n",
       "      <td>'price': 133</td>\n",
       "      <td>'qty': 1</td>\n",
       "      <td>'party1': 'S04'</td>\n",
       "      <td>'party2': 'B19'}</td>\n",
       "      <td>5230363</td>\n",
       "    </tr>\n",
       "  </tbody>\n",
       "</table>\n",
       "<p>5230364 rows × 12 columns</p>\n",
       "</div>"
      ],
      "text/plain": [
       "                     0          1          2    3                        4  \\\n",
       "0        Tst2022-01-04   Exch0Lit      8.192  203   {'pool_id': 'Exch0Lit'   \n",
       "1        Tst2022-01-04   Exch0Lit      8.192  199   {'pool_id': 'Exch0Lit'   \n",
       "2        Tst2022-01-04   Exch0Lit     10.336  196   {'pool_id': 'Exch0Lit'   \n",
       "3        Tst2022-01-04   Exch0Lit     10.672  196   {'pool_id': 'Exch0Lit'   \n",
       "4        Tst2022-01-04   Exch0Lit     11.040  201   {'pool_id': 'Exch0Lit'   \n",
       "...                ...        ...        ...  ...                      ...   \n",
       "5230359  Tst2022-04-29   Exch0Lit  30599.376  134   {'pool_id': 'Exch0Lit'   \n",
       "5230360  Tst2022-04-29   Exch0Lit  30599.520  134   {'pool_id': 'Exch0Lit'   \n",
       "5230361  Tst2022-04-29   Exch0Lit  30599.584  134   {'pool_id': 'Exch0Lit'   \n",
       "5230362  Tst2022-04-29   Exch0Lit  30599.776  134   {'pool_id': 'Exch0Lit'   \n",
       "5230363  Tst2022-04-29   Exch0Lit  30599.776  133   {'pool_id': 'Exch0Lit'   \n",
       "\n",
       "                        5                   6              7          8  \\\n",
       "0         'type': 'Trade'       'time': 8.192   'price': 203   'qty': 2   \n",
       "1         'type': 'Trade'       'time': 8.192   'price': 199   'qty': 3   \n",
       "2         'type': 'Trade'      'time': 10.336   'price': 196   'qty': 3   \n",
       "3         'type': 'Trade'      'time': 10.672   'price': 196   'qty': 4   \n",
       "4         'type': 'Trade'       'time': 11.04   'price': 201   'qty': 1   \n",
       "...                   ...                 ...            ...        ...   \n",
       "5230359   'type': 'Trade'   'time': 30599.376   'price': 134   'qty': 1   \n",
       "5230360   'type': 'Trade'    'time': 30599.52   'price': 134   'qty': 1   \n",
       "5230361   'type': 'Trade'   'time': 30599.584   'price': 134   'qty': 1   \n",
       "5230362   'type': 'Trade'   'time': 30599.776   'price': 134   'qty': 3   \n",
       "5230363   'type': 'Trade'   'time': 30599.776   'price': 133   'qty': 1   \n",
       "\n",
       "                        9                 10    index  \n",
       "0         'party1': 'S26'   'party2': 'B24'}        0  \n",
       "1         'party1': 'S26'   'party2': 'B08'}        1  \n",
       "2         'party1': 'S06'   'party2': 'B07'}        2  \n",
       "3         'party1': 'S01'   'party2': 'B01'}        3  \n",
       "4         'party1': 'S12'   'party2': 'B31'}        4  \n",
       "...                   ...                ...      ...  \n",
       "5230359   'party1': 'S21'   'party2': 'B07'}  5230359  \n",
       "5230360   'party1': 'S03'   'party2': 'B07'}  5230360  \n",
       "5230361   'party1': 'S28'   'party2': 'B01'}  5230361  \n",
       "5230362   'party1': 'S04'   'party2': 'B01'}  5230362  \n",
       "5230363   'party1': 'S04'   'party2': 'B19'}  5230363  \n",
       "\n",
       "[5230364 rows x 12 columns]"
      ]
     },
     "execution_count": 10,
     "metadata": {},
     "output_type": "execute_result"
    }
   ],
   "source": [
    "data"
   ]
  },
  {
   "cell_type": "code",
   "execution_count": 11,
   "id": "1cf39e04",
   "metadata": {},
   "outputs": [],
   "source": [
    "X = data[\"index\"]"
   ]
  },
  {
   "cell_type": "code",
   "execution_count": 13,
   "id": "2796cf98",
   "metadata": {},
   "outputs": [],
   "source": [
    "y = data[3]"
   ]
  },
  {
   "cell_type": "code",
   "execution_count": 42,
   "id": "7efc0aff",
   "metadata": {},
   "outputs": [
    {
     "name": "stdout",
     "output_type": "stream",
     "text": [
      "         sine\n",
      "index        \n",
      "0         203\n",
      "1         199\n",
      "2         196\n",
      "3         196\n",
      "4         201\n",
      "...       ...\n",
      "5230359   134\n",
      "5230360   134\n",
      "5230361   134\n",
      "5230362   134\n",
      "5230363   133\n",
      "\n",
      "[5230364 rows x 1 columns]\n"
     ]
    }
   ],
   "source": [
    "df = pd.DataFrame(dict(sine=y.values), index=X, columns=['sine'])\n",
    "print(df)"
   ]
  },
  {
   "cell_type": "code",
   "execution_count": 43,
   "id": "528371b5",
   "metadata": {},
   "outputs": [
    {
     "name": "stdout",
     "output_type": "stream",
     "text": [
      "4184291 1046073\n"
     ]
    }
   ],
   "source": [
    "train_size = int(len(df) * 0.8)\n",
    "test_size = len(df) - train_size\n",
    "train, test = df.iloc[0:train_size], df.iloc[train_size:len(df)]\n",
    "print(len(train), len(test))"
   ]
  },
  {
   "cell_type": "code",
   "execution_count": 44,
   "id": "7dddd2a1",
   "metadata": {},
   "outputs": [],
   "source": [
    "def create_dataset(X, y, time_steps=1):\n",
    "    Xs, ys = [], []\n",
    "    for i in range(len(X) - time_steps):\n",
    "        v = X.iloc[i:(i + time_steps)].values\n",
    "        Xs.append(v)\n",
    "        ys.append(y.iloc[i + time_steps])\n",
    "    return np.array(Xs), np.array(ys)"
   ]
  },
  {
   "cell_type": "code",
   "execution_count": 45,
   "id": "9d42915a",
   "metadata": {},
   "outputs": [
    {
     "name": "stdout",
     "output_type": "stream",
     "text": [
      "(4184290, 1, 1) (4184290,)\n"
     ]
    }
   ],
   "source": [
    "import numpy as np\n",
    "X_train, y_train = create_dataset(train, train.sine, 1)\n",
    "X_test, y_test = create_dataset(test, test.sine, 1)\n",
    "print(X_train.shape, y_train.shape)"
   ]
  },
  {
   "cell_type": "code",
   "execution_count": 46,
   "id": "e14c8d37",
   "metadata": {},
   "outputs": [],
   "source": [
    "import numpy as np\n",
    "import tensorflow as tf\n",
    "from tensorflow import keras\n",
    "import pandas as pd\n",
    "import seaborn as sns\n",
    "from pylab import rcParams\n",
    "import matplotlib.pyplot as plt\n",
    "from matplotlib import rc\n",
    "\n",
    "\n",
    "model = keras.Sequential()\n",
    "model.add(keras.layers.LSTM(\n",
    "  units=328,return_sequences = True,\n",
    "  input_shape=(X_train.shape[1], X_train.shape[2])\n",
    "))\n",
    "\n",
    "model.add(keras.layers.LSTM(\n",
    "  units=50,\n",
    "))\n",
    "model.add(keras.layers.Dense(units=8))\n",
    "model.add(keras.layers.Dense(units=1))\n",
    "model.compile(\n",
    "  loss='mean_squared_error',\n",
    "  optimizer=keras.optimizers.Adam(0.001))"
   ]
  },
  {
   "cell_type": "code",
   "execution_count": 47,
   "id": "cb50199e",
   "metadata": {},
   "outputs": [
    {
     "name": "stdout",
     "output_type": "stream",
     "text": [
      "Train on 3765861 samples, validate on 418429 samples\n",
      "3765861/3765861 [==============================] - 2879s 765us/sample - loss: 100.2607 - val_loss: 46.0623\n"
     ]
    }
   ],
   "source": [
    "history = model.fit(\n",
    "    X_train, y_train,\n",
    "    epochs=1,\n",
    "    batch_size=16,\n",
    "    validation_split=0.1,\n",
    "    verbose=1,\n",
    "    shuffle=False)"
   ]
  },
  {
   "cell_type": "code",
   "execution_count": 48,
   "id": "ff2707c0",
   "metadata": {},
   "outputs": [],
   "source": [
    "y_pred = model.predict(X_test)"
   ]
  },
  {
   "cell_type": "code",
   "execution_count": 65,
   "id": "21488100",
   "metadata": {},
   "outputs": [],
   "source": [
    "a = pd.DataFrame(y_pred)"
   ]
  },
  {
   "cell_type": "code",
   "execution_count": 68,
   "id": "2b702034",
   "metadata": {},
   "outputs": [],
   "source": [
    "a.to_csv('s3://project-b-data/proj-b/LOB_csv/Full_LOB/aotu_trader')"
   ]
  },
  {
   "cell_type": "code",
   "execution_count": 71,
   "id": "02842bf4",
   "metadata": {},
   "outputs": [
    {
     "data": {
      "text/plain": [
       "[<matplotlib.lines.Line2D at 0x7fa1c0cf7908>]"
      ]
     },
     "execution_count": 71,
     "metadata": {},
     "output_type": "execute_result"
    },
    {
     "data": {
      "image/png": "[encoded data removed]",
      "text/plain": [
       "<Figure size 432x288 with 1 Axes>"
      ]
     },
     "metadata": {
      "needs_background": "light"
     },
     "output_type": "display_data"
    }
   ],
   "source": [
    "fig, ax = plt.subplots()\n",
    "ax.plot(test.index.to_numpy()[:-1],y_test)\n",
    "ax.plot(test.index.to_numpy()[:-1],y_pred)"
   ]
  },
  {
   "cell_type": "code",
   "execution_count": 73,
   "id": "e2a22e48",
   "metadata": {},
   "outputs": [
    {
     "data": {
      "text/plain": [
       "100.94934418322323"
      ]
     },
     "execution_count": 73,
     "metadata": {},
     "output_type": "execute_result"
    }
   ],
   "source": [
    "from sklearn.metrics import mean_squared_error\n",
    "mean_squared_error(y_test,y_pred)"
   ]
  },
  {
   "cell_type": "code",
   "execution_count": 72,
   "id": "8161a475",
   "metadata": {},
   "outputs": [
    {
     "data": {
      "text/plain": [
       "[<matplotlib.lines.Line2D at 0x7fa187f85940>]"
      ]
     },
     "execution_count": 72,
     "metadata": {},
     "output_type": "execute_result"
    },
    {
     "data": {
      "image/png": "[encoded data removed]",
      "text/plain": [
       "<Figure size 432x288 with 1 Axes>"
      ]
     },
     "metadata": {
      "needs_background": "light"
     },
     "output_type": "display_data"
    }
   ],
   "source": [
    "fig, ax = plt.subplots()\n",
    "ax.plot(test.index.to_numpy()[11000:11110],y_test[11000:11110])\n",
    "ax.plot(test.index.to_numpy()[11000:11110],y_pred[11000:11110])\n",
    "\n"
   ]
  },
  {
   "cell_type": "code",
   "execution_count": 60,
   "id": "a3259094",
   "metadata": {},
   "outputs": [
    {
     "data": {
      "text/plain": [
       "100.94934418322323"
      ]
     },
     "execution_count": 60,
     "metadata": {},
     "output_type": "execute_result"
    }
   ],
   "source": [
    "from sklearn.metrics import mean_squared_error\n",
    "mean_squared_error(y_test,y_pred)"
   ]
  },
  {
   "cell_type": "code",
   "execution_count": 69,
   "id": "0cf2d774",
   "metadata": {},
   "outputs": [
    {
     "data": {
      "text/plain": [
       "array([[148.53194],\n",
       "       [144.57198],\n",
       "       [146.76855],\n",
       "       ...,\n",
       "       [141.44409],\n",
       "       [141.44409],\n",
       "       [141.44409]], dtype=float32)"
      ]
     },
     "execution_count": 69,
     "metadata": {},
     "output_type": "execute_result"
    }
   ],
   "source": [
    "y_pred"
   ]
  },
  {
   "cell_type": "code",
   "execution_count": 61,
   "id": "ba32a651",
   "metadata": {},
   "outputs": [
    {
     "ename": "SyntaxError",
     "evalue": "invalid syntax (<ipython-input-61-bc58a2e9742a>, line 1)",
     "output_type": "error",
     "traceback": [
      "\u001b[0;36m  File \u001b[0;32m\"<ipython-input-61-bc58a2e9742a>\"\u001b[0;36m, line \u001b[0;32m1\u001b[0m\n\u001b[0;31m    def(auto_trader):\u001b[0m\n\u001b[0m       ^\u001b[0m\n\u001b[0;31mSyntaxError\u001b[0m\u001b[0;31m:\u001b[0m invalid syntax\n"
     ]
    }
   ],
   "source": [
    "def auto_trader():"
   ]
  },
  {
   "cell_type": "code",
   "execution_count": 76,
   "id": "1b06ed33",
   "metadata": {},
   "outputs": [
    {
     "data": {
      "text/plain": [
       "1046073"
      ]
     },
     "execution_count": 76,
     "metadata": {},
     "output_type": "execute_result"
    }
   ],
   "source": [
    "test_size"
   ]
  },
  {
   "cell_type": "code",
   "execution_count": 74,
   "id": "ae00e8a6",
   "metadata": {},
   "outputs": [
    {
     "data": {
      "text/html": [
       "<div>\n",
       "<style scoped>\n",
       "    .dataframe tbody tr th:only-of-type {\n",
       "        vertical-align: middle;\n",
       "    }\n",
       "\n",
       "    .dataframe tbody tr th {\n",
       "        vertical-align: top;\n",
       "    }\n",
       "\n",
       "    .dataframe thead th {\n",
       "        text-align: right;\n",
       "    }\n",
       "</style>\n",
       "<table border=\"1\" class=\"dataframe\">\n",
       "  <thead>\n",
       "    <tr style=\"text-align: right;\">\n",
       "      <th></th>\n",
       "      <th>0</th>\n",
       "      <th>1</th>\n",
       "      <th>2</th>\n",
       "      <th>3</th>\n",
       "      <th>4</th>\n",
       "      <th>5</th>\n",
       "      <th>6</th>\n",
       "      <th>7</th>\n",
       "      <th>8</th>\n",
       "      <th>9</th>\n",
       "      <th>10</th>\n",
       "      <th>index</th>\n",
       "    </tr>\n",
       "  </thead>\n",
       "  <tbody>\n",
       "    <tr>\n",
       "      <th>0</th>\n",
       "      <td>Tst2022-01-04</td>\n",
       "      <td>Exch0Lit</td>\n",
       "      <td>8.192</td>\n",
       "      <td>203</td>\n",
       "      <td>{'pool_id': 'Exch0Lit'</td>\n",
       "      <td>'type': 'Trade'</td>\n",
       "      <td>'time': 8.192</td>\n",
       "      <td>'price': 203</td>\n",
       "      <td>'qty': 2</td>\n",
       "      <td>'party1': 'S26'</td>\n",
       "      <td>'party2': 'B24'}</td>\n",
       "      <td>0</td>\n",
       "    </tr>\n",
       "    <tr>\n",
       "      <th>1</th>\n",
       "      <td>Tst2022-01-04</td>\n",
       "      <td>Exch0Lit</td>\n",
       "      <td>8.192</td>\n",
       "      <td>199</td>\n",
       "      <td>{'pool_id': 'Exch0Lit'</td>\n",
       "      <td>'type': 'Trade'</td>\n",
       "      <td>'time': 8.192</td>\n",
       "      <td>'price': 199</td>\n",
       "      <td>'qty': 3</td>\n",
       "      <td>'party1': 'S26'</td>\n",
       "      <td>'party2': 'B08'}</td>\n",
       "      <td>1</td>\n",
       "    </tr>\n",
       "    <tr>\n",
       "      <th>2</th>\n",
       "      <td>Tst2022-01-04</td>\n",
       "      <td>Exch0Lit</td>\n",
       "      <td>10.336</td>\n",
       "      <td>196</td>\n",
       "      <td>{'pool_id': 'Exch0Lit'</td>\n",
       "      <td>'type': 'Trade'</td>\n",
       "      <td>'time': 10.336</td>\n",
       "      <td>'price': 196</td>\n",
       "      <td>'qty': 3</td>\n",
       "      <td>'party1': 'S06'</td>\n",
       "      <td>'party2': 'B07'}</td>\n",
       "      <td>2</td>\n",
       "    </tr>\n",
       "    <tr>\n",
       "      <th>3</th>\n",
       "      <td>Tst2022-01-04</td>\n",
       "      <td>Exch0Lit</td>\n",
       "      <td>10.672</td>\n",
       "      <td>196</td>\n",
       "      <td>{'pool_id': 'Exch0Lit'</td>\n",
       "      <td>'type': 'Trade'</td>\n",
       "      <td>'time': 10.672</td>\n",
       "      <td>'price': 196</td>\n",
       "      <td>'qty': 4</td>\n",
       "      <td>'party1': 'S01'</td>\n",
       "      <td>'party2': 'B01'}</td>\n",
       "      <td>3</td>\n",
       "    </tr>\n",
       "    <tr>\n",
       "      <th>4</th>\n",
       "      <td>Tst2022-01-04</td>\n",
       "      <td>Exch0Lit</td>\n",
       "      <td>11.040</td>\n",
       "      <td>201</td>\n",
       "      <td>{'pool_id': 'Exch0Lit'</td>\n",
       "      <td>'type': 'Trade'</td>\n",
       "      <td>'time': 11.04</td>\n",
       "      <td>'price': 201</td>\n",
       "      <td>'qty': 1</td>\n",
       "      <td>'party1': 'S12'</td>\n",
       "      <td>'party2': 'B31'}</td>\n",
       "      <td>4</td>\n",
       "    </tr>\n",
       "    <tr>\n",
       "      <th>...</th>\n",
       "      <td>...</td>\n",
       "      <td>...</td>\n",
       "      <td>...</td>\n",
       "      <td>...</td>\n",
       "      <td>...</td>\n",
       "      <td>...</td>\n",
       "      <td>...</td>\n",
       "      <td>...</td>\n",
       "      <td>...</td>\n",
       "      <td>...</td>\n",
       "      <td>...</td>\n",
       "      <td>...</td>\n",
       "    </tr>\n",
       "    <tr>\n",
       "      <th>5230359</th>\n",
       "      <td>Tst2022-04-29</td>\n",
       "      <td>Exch0Lit</td>\n",
       "      <td>30599.376</td>\n",
       "      <td>134</td>\n",
       "      <td>{'pool_id': 'Exch0Lit'</td>\n",
       "      <td>'type': 'Trade'</td>\n",
       "      <td>'time': 30599.376</td>\n",
       "      <td>'price': 134</td>\n",
       "      <td>'qty': 1</td>\n",
       "      <td>'party1': 'S21'</td>\n",
       "      <td>'party2': 'B07'}</td>\n",
       "      <td>5230359</td>\n",
       "    </tr>\n",
       "    <tr>\n",
       "      <th>5230360</th>\n",
       "      <td>Tst2022-04-29</td>\n",
       "      <td>Exch0Lit</td>\n",
       "      <td>30599.520</td>\n",
       "      <td>134</td>\n",
       "      <td>{'pool_id': 'Exch0Lit'</td>\n",
       "      <td>'type': 'Trade'</td>\n",
       "      <td>'time': 30599.52</td>\n",
       "      <td>'price': 134</td>\n",
       "      <td>'qty': 1</td>\n",
       "      <td>'party1': 'S03'</td>\n",
       "      <td>'party2': 'B07'}</td>\n",
       "      <td>5230360</td>\n",
       "    </tr>\n",
       "    <tr>\n",
       "      <th>5230361</th>\n",
       "      <td>Tst2022-04-29</td>\n",
       "      <td>Exch0Lit</td>\n",
       "      <td>30599.584</td>\n",
       "      <td>134</td>\n",
       "      <td>{'pool_id': 'Exch0Lit'</td>\n",
       "      <td>'type': 'Trade'</td>\n",
       "      <td>'time': 30599.584</td>\n",
       "      <td>'price': 134</td>\n",
       "      <td>'qty': 1</td>\n",
       "      <td>'party1': 'S28'</td>\n",
       "      <td>'party2': 'B01'}</td>\n",
       "      <td>5230361</td>\n",
       "    </tr>\n",
       "    <tr>\n",
       "      <th>5230362</th>\n",
       "      <td>Tst2022-04-29</td>\n",
       "      <td>Exch0Lit</td>\n",
       "      <td>30599.776</td>\n",
       "      <td>134</td>\n",
       "      <td>{'pool_id': 'Exch0Lit'</td>\n",
       "      <td>'type': 'Trade'</td>\n",
       "      <td>'time': 30599.776</td>\n",
       "      <td>'price': 134</td>\n",
       "      <td>'qty': 3</td>\n",
       "      <td>'party1': 'S04'</td>\n",
       "      <td>'party2': 'B01'}</td>\n",
       "      <td>5230362</td>\n",
       "    </tr>\n",
       "    <tr>\n",
       "      <th>5230363</th>\n",
       "      <td>Tst2022-04-29</td>\n",
       "      <td>Exch0Lit</td>\n",
       "      <td>30599.776</td>\n",
       "      <td>133</td>\n",
       "      <td>{'pool_id': 'Exch0Lit'</td>\n",
       "      <td>'type': 'Trade'</td>\n",
       "      <td>'time': 30599.776</td>\n",
       "      <td>'price': 133</td>\n",
       "      <td>'qty': 1</td>\n",
       "      <td>'party1': 'S04'</td>\n",
       "      <td>'party2': 'B19'}</td>\n",
       "      <td>5230363</td>\n",
       "    </tr>\n",
       "  </tbody>\n",
       "</table>\n",
       "<p>5230364 rows × 12 columns</p>\n",
       "</div>"
      ],
      "text/plain": [
       "                     0          1          2    3                        4  \\\n",
       "0        Tst2022-01-04   Exch0Lit      8.192  203   {'pool_id': 'Exch0Lit'   \n",
       "1        Tst2022-01-04   Exch0Lit      8.192  199   {'pool_id': 'Exch0Lit'   \n",
       "2        Tst2022-01-04   Exch0Lit     10.336  196   {'pool_id': 'Exch0Lit'   \n",
       "3        Tst2022-01-04   Exch0Lit     10.672  196   {'pool_id': 'Exch0Lit'   \n",
       "4        Tst2022-01-04   Exch0Lit     11.040  201   {'pool_id': 'Exch0Lit'   \n",
       "...                ...        ...        ...  ...                      ...   \n",
       "5230359  Tst2022-04-29   Exch0Lit  30599.376  134   {'pool_id': 'Exch0Lit'   \n",
       "5230360  Tst2022-04-29   Exch0Lit  30599.520  134   {'pool_id': 'Exch0Lit'   \n",
       "5230361  Tst2022-04-29   Exch0Lit  30599.584  134   {'pool_id': 'Exch0Lit'   \n",
       "5230362  Tst2022-04-29   Exch0Lit  30599.776  134   {'pool_id': 'Exch0Lit'   \n",
       "5230363  Tst2022-04-29   Exch0Lit  30599.776  133   {'pool_id': 'Exch0Lit'   \n",
       "\n",
       "                        5                   6              7          8  \\\n",
       "0         'type': 'Trade'       'time': 8.192   'price': 203   'qty': 2   \n",
       "1         'type': 'Trade'       'time': 8.192   'price': 199   'qty': 3   \n",
       "2         'type': 'Trade'      'time': 10.336   'price': 196   'qty': 3   \n",
       "3         'type': 'Trade'      'time': 10.672   'price': 196   'qty': 4   \n",
       "4         'type': 'Trade'       'time': 11.04   'price': 201   'qty': 1   \n",
       "...                   ...                 ...            ...        ...   \n",
       "5230359   'type': 'Trade'   'time': 30599.376   'price': 134   'qty': 1   \n",
       "5230360   'type': 'Trade'    'time': 30599.52   'price': 134   'qty': 1   \n",
       "5230361   'type': 'Trade'   'time': 30599.584   'price': 134   'qty': 1   \n",
       "5230362   'type': 'Trade'   'time': 30599.776   'price': 134   'qty': 3   \n",
       "5230363   'type': 'Trade'   'time': 30599.776   'price': 133   'qty': 1   \n",
       "\n",
       "                        9                 10    index  \n",
       "0         'party1': 'S26'   'party2': 'B24'}        0  \n",
       "1         'party1': 'S26'   'party2': 'B08'}        1  \n",
       "2         'party1': 'S06'   'party2': 'B07'}        2  \n",
       "3         'party1': 'S01'   'party2': 'B01'}        3  \n",
       "4         'party1': 'S12'   'party2': 'B31'}        4  \n",
       "...                   ...                ...      ...  \n",
       "5230359   'party1': 'S21'   'party2': 'B07'}  5230359  \n",
       "5230360   'party1': 'S03'   'party2': 'B07'}  5230360  \n",
       "5230361   'party1': 'S28'   'party2': 'B01'}  5230361  \n",
       "5230362   'party1': 'S04'   'party2': 'B01'}  5230362  \n",
       "5230363   'party1': 'S04'   'party2': 'B19'}  5230363  \n",
       "\n",
       "[5230364 rows x 12 columns]"
      ]
     },
     "execution_count": 74,
     "metadata": {},
     "output_type": "execute_result"
    }
   ],
   "source": [
    "afterday_set"
   ]
  },
  {
   "cell_type": "code",
   "execution_count": 78,
   "id": "2cc041a9",
   "metadata": {},
   "outputs": [],
   "source": [
    "b = pd.read_csv('s3://project-b-new/Tape_csv/New_Full_Tape_B02.csv')"
   ]
  },
  {
   "cell_type": "code",
   "execution_count": 86,
   "id": "87bd571d",
   "metadata": {},
   "outputs": [],
   "source": [
    "test_x = b[\"index\"]"
   ]
  },
  {
   "cell_type": "code",
   "execution_count": 87,
   "id": "32828cd0",
   "metadata": {},
   "outputs": [
    {
     "data": {
      "text/html": [
       "<div>\n",
       "<style scoped>\n",
       "    .dataframe tbody tr th:only-of-type {\n",
       "        vertical-align: middle;\n",
       "    }\n",
       "\n",
       "    .dataframe tbody tr th {\n",
       "        vertical-align: top;\n",
       "    }\n",
       "\n",
       "    .dataframe thead th {\n",
       "        text-align: right;\n",
       "    }\n",
       "</style>\n",
       "<table border=\"1\" class=\"dataframe\">\n",
       "  <thead>\n",
       "    <tr style=\"text-align: right;\">\n",
       "      <th></th>\n",
       "      <th>Date</th>\n",
       "      <th>Time</th>\n",
       "      <th>Price</th>\n",
       "      <th>Quantity</th>\n",
       "      <th>Party1</th>\n",
       "      <th>Party2</th>\n",
       "      <th>idex</th>\n",
       "      <th>idebx</th>\n",
       "      <th>index</th>\n",
       "    </tr>\n",
       "  </thead>\n",
       "  <tbody>\n",
       "    <tr>\n",
       "      <th>0</th>\n",
       "      <td>2022-01-04</td>\n",
       "      <td>10.778</td>\n",
       "      <td>253</td>\n",
       "      <td>1.0</td>\n",
       "      <td>S01</td>\n",
       "      <td>B08</td>\n",
       "      <td>0</td>\n",
       "      <td>0</td>\n",
       "      <td>0</td>\n",
       "    </tr>\n",
       "    <tr>\n",
       "      <th>1</th>\n",
       "      <td>2022-01-04</td>\n",
       "      <td>12.631</td>\n",
       "      <td>254</td>\n",
       "      <td>1.0</td>\n",
       "      <td>S03</td>\n",
       "      <td>B22</td>\n",
       "      <td>1</td>\n",
       "      <td>1</td>\n",
       "      <td>1</td>\n",
       "    </tr>\n",
       "    <tr>\n",
       "      <th>2</th>\n",
       "      <td>2022-01-04</td>\n",
       "      <td>12.835</td>\n",
       "      <td>254</td>\n",
       "      <td>4.0</td>\n",
       "      <td>S03</td>\n",
       "      <td>B12</td>\n",
       "      <td>2</td>\n",
       "      <td>2</td>\n",
       "      <td>2</td>\n",
       "    </tr>\n",
       "    <tr>\n",
       "      <th>3</th>\n",
       "      <td>2022-01-04</td>\n",
       "      <td>14.144</td>\n",
       "      <td>256</td>\n",
       "      <td>1.0</td>\n",
       "      <td>S10</td>\n",
       "      <td>B12</td>\n",
       "      <td>3</td>\n",
       "      <td>3</td>\n",
       "      <td>3</td>\n",
       "    </tr>\n",
       "    <tr>\n",
       "      <th>4</th>\n",
       "      <td>2022-01-04</td>\n",
       "      <td>14.484</td>\n",
       "      <td>256</td>\n",
       "      <td>1.0</td>\n",
       "      <td>S10</td>\n",
       "      <td>B28</td>\n",
       "      <td>4</td>\n",
       "      <td>4</td>\n",
       "      <td>4</td>\n",
       "    </tr>\n",
       "    <tr>\n",
       "      <th>...</th>\n",
       "      <td>...</td>\n",
       "      <td>...</td>\n",
       "      <td>...</td>\n",
       "      <td>...</td>\n",
       "      <td>...</td>\n",
       "      <td>...</td>\n",
       "      <td>...</td>\n",
       "      <td>...</td>\n",
       "      <td>...</td>\n",
       "    </tr>\n",
       "    <tr>\n",
       "      <th>3971062</th>\n",
       "      <td>2022-04-29</td>\n",
       "      <td>30596.974</td>\n",
       "      <td>114</td>\n",
       "      <td>2.0</td>\n",
       "      <td>S15</td>\n",
       "      <td>B01</td>\n",
       "      <td>3971062</td>\n",
       "      <td>3971062</td>\n",
       "      <td>3971062</td>\n",
       "    </tr>\n",
       "    <tr>\n",
       "      <th>3971063</th>\n",
       "      <td>2022-04-29</td>\n",
       "      <td>30596.974</td>\n",
       "      <td>114</td>\n",
       "      <td>1.0</td>\n",
       "      <td>S15</td>\n",
       "      <td>B06</td>\n",
       "      <td>3971063</td>\n",
       "      <td>3971063</td>\n",
       "      <td>3971063</td>\n",
       "    </tr>\n",
       "    <tr>\n",
       "      <th>3971064</th>\n",
       "      <td>2022-04-29</td>\n",
       "      <td>30597.705</td>\n",
       "      <td>113</td>\n",
       "      <td>1.0</td>\n",
       "      <td>S11</td>\n",
       "      <td>B02</td>\n",
       "      <td>3971064</td>\n",
       "      <td>3971064</td>\n",
       "      <td>3971064</td>\n",
       "    </tr>\n",
       "    <tr>\n",
       "      <th>3971065</th>\n",
       "      <td>2022-04-29</td>\n",
       "      <td>30598.317</td>\n",
       "      <td>114</td>\n",
       "      <td>3.0</td>\n",
       "      <td>S03</td>\n",
       "      <td>B13</td>\n",
       "      <td>3971065</td>\n",
       "      <td>3971065</td>\n",
       "      <td>3971065</td>\n",
       "    </tr>\n",
       "    <tr>\n",
       "      <th>3971066</th>\n",
       "      <td>2022-04-29</td>\n",
       "      <td>30598.589</td>\n",
       "      <td>118</td>\n",
       "      <td>1.0</td>\n",
       "      <td>S10</td>\n",
       "      <td>B27</td>\n",
       "      <td>3971066</td>\n",
       "      <td>3971066</td>\n",
       "      <td>3971066</td>\n",
       "    </tr>\n",
       "  </tbody>\n",
       "</table>\n",
       "<p>3971067 rows × 9 columns</p>\n",
       "</div>"
      ],
      "text/plain": [
       "               Date       Time  Price  Quantity Party1 Party2     idex  \\\n",
       "0        2022-01-04     10.778    253       1.0    S01    B08        0   \n",
       "1        2022-01-04     12.631    254       1.0    S03    B22        1   \n",
       "2        2022-01-04     12.835    254       4.0    S03    B12        2   \n",
       "3        2022-01-04     14.144    256       1.0    S10    B12        3   \n",
       "4        2022-01-04     14.484    256       1.0    S10    B28        4   \n",
       "...             ...        ...    ...       ...    ...    ...      ...   \n",
       "3971062  2022-04-29  30596.974    114       2.0    S15    B01  3971062   \n",
       "3971063  2022-04-29  30596.974    114       1.0    S15    B06  3971063   \n",
       "3971064  2022-04-29  30597.705    113       1.0    S11    B02  3971064   \n",
       "3971065  2022-04-29  30598.317    114       3.0    S03    B13  3971065   \n",
       "3971066  2022-04-29  30598.589    118       1.0    S10    B27  3971066   \n",
       "\n",
       "           idebx    index  \n",
       "0              0        0  \n",
       "1              1        1  \n",
       "2              2        2  \n",
       "3              3        3  \n",
       "4              4        4  \n",
       "...          ...      ...  \n",
       "3971062  3971062  3971062  \n",
       "3971063  3971063  3971063  \n",
       "3971064  3971064  3971064  \n",
       "3971065  3971065  3971065  \n",
       "3971066  3971066  3971066  \n",
       "\n",
       "[3971067 rows x 9 columns]"
      ]
     },
     "execution_count": 87,
     "metadata": {},
     "output_type": "execute_result"
    }
   ],
   "source": [
    "b"
   ]
  },
  {
   "cell_type": "code",
   "execution_count": 95,
   "id": "e4d4f112",
   "metadata": {},
   "outputs": [],
   "source": [
    "test_x = b['index']"
   ]
  },
  {
   "cell_type": "code",
   "execution_count": 96,
   "id": "daed609c",
   "metadata": {},
   "outputs": [],
   "source": [
    "test_y = b['Price']"
   ]
  },
  {
   "cell_type": "code",
   "execution_count": 97,
   "id": "59c1f8be",
   "metadata": {},
   "outputs": [
    {
     "name": "stdout",
     "output_type": "stream",
     "text": [
      "         sine\n",
      "index        \n",
      "0         253\n",
      "1         254\n",
      "2         254\n",
      "3         256\n",
      "4         256\n",
      "...       ...\n",
      "3971062   114\n",
      "3971063   114\n",
      "3971064   113\n",
      "3971065   114\n",
      "3971066   118\n",
      "\n",
      "[3971067 rows x 1 columns]\n"
     ]
    }
   ],
   "source": [
    "temp = pd.DataFrame(dict(sine=test_y.values), index=test_x, columns=['sine'])\n",
    "print(temp)\n"
   ]
  },
  {
   "cell_type": "code",
   "execution_count": 98,
   "id": "7f234dab",
   "metadata": {},
   "outputs": [],
   "source": [
    "XX_test, yy_test = create_dataset(temp, temp.sine, 1)"
   ]
  },
  {
   "cell_type": "code",
   "execution_count": 99,
   "id": "2509c90d",
   "metadata": {},
   "outputs": [],
   "source": [
    "yy_pred = model.predict(XX_test)"
   ]
  },
  {
   "cell_type": "code",
   "execution_count": 106,
   "id": "58ddac1c",
   "metadata": {},
   "outputs": [
    {
     "data": {
      "text/plain": [
       "[<matplotlib.lines.Line2D at 0x7fa2247a46d8>]"
      ]
     },
     "execution_count": 106,
     "metadata": {},
     "output_type": "execute_result"
    },
    {
     "data": {
      "image/png": "[encoded data removed]",
      "text/plain": [
       "<Figure size 432x288 with 1 Axes>"
      ]
     },
     "metadata": {
      "needs_background": "light"
     },
     "output_type": "display_data"
    }
   ],
   "source": [
    "fig, ax = plt.subplots()\n",
    "ax.plot(temp.index.to_numpy()[:-1],yy_test)\n",
    "ax.plot(temp.index.to_numpy()[:-1],yy_pred)"
   ]
  },
  {
   "cell_type": "code",
   "execution_count": 103,
   "id": "3f936243",
   "metadata": {},
   "outputs": [
    {
     "data": {
      "text/plain": [
       "569.9534647948317"
      ]
     },
     "execution_count": 103,
     "metadata": {},
     "output_type": "execute_result"
    }
   ],
   "source": [
    "mean_squared_error(yy_test,yy_pred)"
   ]
  },
  {
   "cell_type": "code",
   "execution_count": 107,
   "id": "d22b8a04",
   "metadata": {},
   "outputs": [],
   "source": [
    "b = pd.read_csv('s3://project-b-new/Tape_csv/New_Full_Tape_B03.csv')"
   ]
  },
  {
   "cell_type": "code",
   "execution_count": 109,
   "id": "4e09df0d",
   "metadata": {},
   "outputs": [],
   "source": [
    "b['index']=b.index"
   ]
  },
  {
   "cell_type": "code",
   "execution_count": 110,
   "id": "76d5e4c7",
   "metadata": {},
   "outputs": [],
   "source": [
    "test_x = b[\"index\"]"
   ]
  },
  {
   "cell_type": "code",
   "execution_count": 111,
   "id": "e7b60840",
   "metadata": {},
   "outputs": [],
   "source": [
    "test_y = b['Price']"
   ]
  },
  {
   "cell_type": "code",
   "execution_count": 112,
   "id": "f9fdf94a",
   "metadata": {},
   "outputs": [
    {
     "name": "stdout",
     "output_type": "stream",
     "text": [
      "         sine\n",
      "index        \n",
      "0         263\n",
      "1         263\n",
      "2         259\n",
      "3         259\n",
      "4         260\n",
      "...       ...\n",
      "3067125   227\n",
      "3067126   224\n",
      "3067127   224\n",
      "3067128   224\n",
      "3067129   225\n",
      "\n",
      "[3067130 rows x 1 columns]\n"
     ]
    }
   ],
   "source": [
    "temp = pd.DataFrame(dict(sine=test_y.values), index=test_x, columns=['sine'])\n",
    "print(temp)\n"
   ]
  },
  {
   "cell_type": "code",
   "execution_count": 113,
   "id": "9a5c4dd1",
   "metadata": {},
   "outputs": [],
   "source": [
    "XX_test, yy_test = create_dataset(temp, temp.sine, 1)"
   ]
  },
  {
   "cell_type": "code",
   "execution_count": 114,
   "id": "caff68b3",
   "metadata": {},
   "outputs": [],
   "source": [
    "yy_pred = model.predict(XX_test)"
   ]
  },
  {
   "cell_type": "code",
   "execution_count": 117,
   "id": "534ab599",
   "metadata": {},
   "outputs": [
    {
     "data": {
      "text/plain": [
       "[<matplotlib.lines.Line2D at 0x7fa0da5f34e0>]"
      ]
     },
     "execution_count": 117,
     "metadata": {},
     "output_type": "execute_result"
    },
    {
     "data": {
      "image/png": "[encoded data removed]",
      "text/plain": [
       "<Figure size 432x288 with 1 Axes>"
      ]
     },
     "metadata": {
      "needs_background": "light"
     },
     "output_type": "display_data"
    }
   ],
   "source": [
    "fig, ax = plt.subplots()\n",
    "ax.plot(temp.index.to_numpy()[2000000:2500000],yy_test[2000000:2500000])\n",
    "ax.plot(temp.index.to_numpy()[2000000:2500000],yy_pred[2000000:2500000])"
   ]
  },
  {
   "cell_type": "code",
   "execution_count": 118,
   "id": "3b3b2025",
   "metadata": {},
   "outputs": [
    {
     "data": {
      "text/plain": [
       "271.81820330464944"
      ]
     },
     "execution_count": 118,
     "metadata": {},
     "output_type": "execute_result"
    }
   ],
   "source": [
    "mean_squared_error(yy_test[2000000:2500000],yy_pred[2000000:2500000])"
   ]
  },
  {
   "cell_type": "code",
   "execution_count": 119,
   "id": "87de1cbc",
   "metadata": {},
   "outputs": [
    {
     "data": {
      "text/plain": [
       "array([[148.53194],\n",
       "       [144.57198],\n",
       "       [146.76855],\n",
       "       ...,\n",
       "       [141.44409],\n",
       "       [141.44409],\n",
       "       [141.44409]], dtype=float32)"
      ]
     },
     "execution_count": 119,
     "metadata": {},
     "output_type": "execute_result"
    }
   ],
   "source": [
    "y_pred"
   ]
  },
  {
   "cell_type": "code",
   "execution_count": null,
   "id": "df51e7f9",
   "metadata": {},
   "outputs": [],
   "source": [
    "# BO1共5230364行         训练：4184291  测试：1046073"
   ]
  },
  {
   "cell_type": "code",
   "execution_count": 120,
   "id": "8a23bf09",
   "metadata": {},
   "outputs": [
    {
     "data": {
      "text/html": [
       "<div>\n",
       "<style scoped>\n",
       "    .dataframe tbody tr th:only-of-type {\n",
       "        vertical-align: middle;\n",
       "    }\n",
       "\n",
       "    .dataframe tbody tr th {\n",
       "        vertical-align: top;\n",
       "    }\n",
       "\n",
       "    .dataframe thead th {\n",
       "        text-align: right;\n",
       "    }\n",
       "</style>\n",
       "<table border=\"1\" class=\"dataframe\">\n",
       "  <thead>\n",
       "    <tr style=\"text-align: right;\">\n",
       "      <th></th>\n",
       "      <th>0</th>\n",
       "    </tr>\n",
       "  </thead>\n",
       "  <tbody>\n",
       "    <tr>\n",
       "      <th>0</th>\n",
       "      <td>148.531937</td>\n",
       "    </tr>\n",
       "    <tr>\n",
       "      <th>1</th>\n",
       "      <td>144.571976</td>\n",
       "    </tr>\n",
       "    <tr>\n",
       "      <th>2</th>\n",
       "      <td>146.768555</td>\n",
       "    </tr>\n",
       "    <tr>\n",
       "      <th>3</th>\n",
       "      <td>146.768555</td>\n",
       "    </tr>\n",
       "    <tr>\n",
       "      <th>4</th>\n",
       "      <td>146.768555</td>\n",
       "    </tr>\n",
       "    <tr>\n",
       "      <th>...</th>\n",
       "      <td>...</td>\n",
       "    </tr>\n",
       "    <tr>\n",
       "      <th>1046067</th>\n",
       "      <td>141.444092</td>\n",
       "    </tr>\n",
       "    <tr>\n",
       "      <th>1046068</th>\n",
       "      <td>141.444092</td>\n",
       "    </tr>\n",
       "    <tr>\n",
       "      <th>1046069</th>\n",
       "      <td>141.444092</td>\n",
       "    </tr>\n",
       "    <tr>\n",
       "      <th>1046070</th>\n",
       "      <td>141.444092</td>\n",
       "    </tr>\n",
       "    <tr>\n",
       "      <th>1046071</th>\n",
       "      <td>141.444092</td>\n",
       "    </tr>\n",
       "  </tbody>\n",
       "</table>\n",
       "<p>1046072 rows × 1 columns</p>\n",
       "</div>"
      ],
      "text/plain": [
       "                  0\n",
       "0        148.531937\n",
       "1        144.571976\n",
       "2        146.768555\n",
       "3        146.768555\n",
       "4        146.768555\n",
       "...             ...\n",
       "1046067  141.444092\n",
       "1046068  141.444092\n",
       "1046069  141.444092\n",
       "1046070  141.444092\n",
       "1046071  141.444092\n",
       "\n",
       "[1046072 rows x 1 columns]"
      ]
     },
     "execution_count": 120,
     "metadata": {},
     "output_type": "execute_result"
    }
   ],
   "source": [
    "a"
   ]
  },
  {
   "cell_type": "code",
   "execution_count": null,
   "id": "ff1fc951",
   "metadata": {},
   "outputs": [],
   "source": []
  }
 ],
 "metadata": {
  "kernelspec": {
   "display_name": "conda_tensorflow2_p36",
   "language": "python",
   "name": "conda_tensorflow2_p36"
  },
  "language_info": {
   "codemirror_mode": {
    "name": "ipython",
    "version": 3
   },
   "file_extension": ".py",
   "mimetype": "text/x-python",
   "name": "python",
   "nbconvert_exporter": "python",
   "pygments_lexer": "ipython3",
   "version": "3.6.13"
  }
 },
 "nbformat": 4,
 "nbformat_minor": 5
}
