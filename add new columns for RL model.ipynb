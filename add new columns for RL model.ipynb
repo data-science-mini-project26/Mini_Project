{
 "cells": [
  {
   "cell_type": "code",
   "execution_count": null,
   "id": "e348f711",
   "metadata": {},
   "outputs": [],
   "source": [
    "from sagemaker import get_execution_role\n",
    "role = get_execution_role()\n",
    "#Bucket and Folder\n",
    "bucket = 'project-b-data'\n",
    "subfolder = 'proj-b/Tape_with_LOB'"
   ]
  },
  {
   "cell_type": "code",
   "execution_count": null,
   "id": "67986224",
   "metadata": {},
   "outputs": [],
   "source": [
    "import boto3\n",
    "conn = boto3.client('s3')\n",
    "contents = conn.list_objects(Bucket=bucket, Prefix=subfolder)['Contents']\n",
    "#Data Set Name\n",
    "print(contents[2]['Key'])"
   ]
  },
  {
   "cell_type": "code",
   "execution_count": null,
   "id": "1be5d7ef",
   "metadata": {},
   "outputs": [],
   "source": [
    "import pandas as pd\n",
    "data = pd.read_csv(f\"s3://project-b-data/proj-b/Tape_with_LOB/Tape_with_LOB1.csv\")"
   ]
  },
  {
   "cell_type": "code",
   "execution_count": null,
   "id": "ea7a4b7d",
   "metadata": {},
   "outputs": [],
   "source": [
    "import ast "
   ]
  },
  {
   "cell_type": "code",
   "execution_count": null,
   "id": "86500d1f",
   "metadata": {},
   "outputs": [],
   "source": [
    "import numpy as np\n",
    "def get_highest_bid_price(bid):\n",
    "    if type(bid) != float:\n",
    "        new_bid = ast.literal_eval(bid)\n",
    "        new_bid = np.array(new_bid)\n",
    "        return new_bid[:,0][0]\n",
    "    else:\n",
    "        return 0\n",
    "        "
   ]
  },
  {
   "cell_type": "code",
   "execution_count": null,
   "id": "ba9c75c8",
   "metadata": {},
   "outputs": [],
   "source": [
    "data['highest_bid_price'] = data.apply(lambda bid: get_highest_bid_price(bid['Bid']), axis=1)"
   ]
  },
  {
   "cell_type": "code",
   "execution_count": null,
   "id": "9faa22e7",
   "metadata": {},
   "outputs": [],
   "source": [
    "def get_highest_bid_quantity(bid):\n",
    "    if type(bid) != float:\n",
    "        new_bid = ast.literal_eval(bid)\n",
    "        new_bid = np.array(new_bid)\n",
    "        return max(new_bid[:,1])\n",
    "    else:\n",
    "        return 0\n",
    "        "
   ]
  },
  {
   "cell_type": "code",
   "execution_count": null,
   "id": "1479a5ce",
   "metadata": {},
   "outputs": [],
   "source": [
    "data['highest_bid_quantity'] = data.apply(lambda bid: get_highest_bid_quantity(bid['Bid']), axis=1)"
   ]
  },
  {
   "cell_type": "code",
   "execution_count": null,
   "id": "70f2bdc7",
   "metadata": {},
   "outputs": [],
   "source": [
    "def get_lowest_ask_price(ask):\n",
    "    if type(ask) != float:\n",
    "        new_ask = ast.literal_eval(ask)\n",
    "        new_ask = np.array(new_ask)\n",
    "        return new_ask[:,0][0]\n",
    "    else:\n",
    "        return 0"
   ]
  },
  {
   "cell_type": "code",
   "execution_count": null,
   "id": "fd1c759d",
   "metadata": {},
   "outputs": [],
   "source": [
    "data['lowest_ask_price'] = data.apply(lambda ask: get_lowest_ask_price(ask['Ask']), axis=1)"
   ]
  },
  {
   "cell_type": "code",
   "execution_count": null,
   "id": "31b1021b",
   "metadata": {},
   "outputs": [],
   "source": [
    "def get_lowest_ask_quantity(ask):\n",
    "    if type(ask) != float:\n",
    "        new_ask = ast.literal_eval(ask)\n",
    "        new_ask = np.array(new_ask)\n",
    "        return min(new_ask[:,1])\n",
    "    else:\n",
    "        return 0"
   ]
  },
  {
   "cell_type": "code",
   "execution_count": null,
   "id": "8e7056b2",
   "metadata": {},
   "outputs": [],
   "source": [
    "data['lowest_ask_quantity'] = data.apply(lambda ask: get_lowest_ask_quantity(ask['Ask']), axis=1)"
   ]
  },
  {
   "cell_type": "code",
   "execution_count": null,
   "id": "333bfc00",
   "metadata": {},
   "outputs": [],
   "source": [
    "data['Spread'] = data['lowest_ask_price']-data['highest_bid_price']"
   ]
  },
  {
   "cell_type": "code",
   "execution_count": null,
   "id": "8d6806af",
   "metadata": {},
   "outputs": [],
   "source": [
    "data['Mid price'] =(data['lowest_ask_price']+data['highest_bid_price'])/2"
   ]
  },
  {
   "cell_type": "code",
   "execution_count": null,
   "id": "03e32da7",
   "metadata": {},
   "outputs": [],
   "source": [
    "def get_Market_depth(ask,bid):\n",
    "    if type(ask) != float and type(bid) !=float:\n",
    "        new_ask = ast.literal_eval(ask)\n",
    "        new_ask = np.array(new_ask)\n",
    "        new_bid = ast.literal_eval(bid)\n",
    "        new_bid = np.array(new_bid)\n",
    "        return new_ask[:,0][-1]-new_bid[:,0][-1]\n",
    "    else:\n",
    "        return 0"
   ]
  },
  {
   "cell_type": "code",
   "execution_count": null,
   "id": "f8f3d5c0",
   "metadata": {},
   "outputs": [],
   "source": [
    "data['Market_depth']=list(map(lambda ask,bid:get_Market_depth(ask,bid), data['Ask'], data['Bid']))"
   ]
  },
  {
   "cell_type": "code",
   "execution_count": null,
   "id": "261801e6",
   "metadata": {},
   "outputs": [],
   "source": []
  },
  {
   "cell_type": "code",
   "execution_count": null,
   "id": "bcbd8d6e",
   "metadata": {},
   "outputs": [],
   "source": []
  },
  {
   "cell_type": "code",
   "execution_count": null,
   "id": "40097728",
   "metadata": {},
   "outputs": [],
   "source": []
  }
 ],
 "metadata": {
  "kernelspec": {
   "display_name": "Python 3",
   "language": "python",
   "name": "python3"
  },
  "language_info": {
   "codemirror_mode": {
    "name": "ipython",
    "version": 3
   },
   "file_extension": ".py",
   "mimetype": "text/x-python",
   "name": "python",
   "nbconvert_exporter": "python",
   "pygments_lexer": "ipython3",
   "version": "3.8.8"
  }
 },
 "nbformat": 4,
 "nbformat_minor": 5
}
