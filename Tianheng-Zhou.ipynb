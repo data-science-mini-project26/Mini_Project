{
 "cells": [
  {
   "cell_type": "markdown",
   "id": "0683aeca",
   "metadata": {},
   "source": [
    "# 1. Read Data from S3 Bucket"
   ]
  },
  {
   "cell_type": "code",
   "execution_count": 1,
   "id": "2d3c7390",
   "metadata": {},
   "outputs": [],
   "source": [
    "from sagemaker import get_execution_role\n",
    "role = get_execution_role()\n",
    "\n",
    "#Bucket and Folder\n",
    "bucket = 'project-b-data'\n",
    "subfolder = 'proj-b/dataset-b01'"
   ]
  },
  {
   "cell_type": "code",
   "execution_count": 2,
   "id": "ba66c458",
   "metadata": {},
   "outputs": [
    {
     "name": "stdout",
     "output_type": "stream",
     "text": [
      "proj-b/dataset-b01/README.txt\n",
      "proj-b/dataset-b01/Tst2022-01-04LOBs.txt\n",
      "proj-b/dataset-b01/Tst2022-01-04tapes.csv\n",
      "proj-b/dataset-b01/Tst2022-01-05LOBs.txt\n",
      "proj-b/dataset-b01/Tst2022-01-05tapes.csv\n"
     ]
    }
   ],
   "source": [
    "import boto3\n",
    "conn = boto3.client('s3')\n",
    "contents = conn.list_objects(Bucket=bucket, Prefix=subfolder)['Contents']\n",
    "for i in range(5):\n",
    "    print(contents[i]['Key'])"
   ]
  },
  {
   "cell_type": "markdown",
   "id": "018c28ec",
   "metadata": {},
   "source": [
    "## 1.1 Read all the csv data"
   ]
  },
  {
   "cell_type": "code",
   "execution_count": 3,
   "id": "213bb0bb",
   "metadata": {},
   "outputs": [
    {
     "name": "stdout",
     "output_type": "stream",
     "text": [
      "['2022-01-04', '2022-01-05', '2022-01-06', '2022-01-07', '2022-01-08']\n"
     ]
    }
   ],
   "source": [
    "#Generate String Date\n",
    "import pandas as pd\n",
    "date_list = pd.date_range(start = \"2022-01-04\",end = \"2022-04-29\").tolist()\n",
    "exact_date = [str(i)[0:10] for i in date_list]   #2022-01-04 format\"\n",
    "print(exact_date[:5])"
   ]
  },
  {
   "cell_type": "code",
   "execution_count": 4,
   "id": "7711d9b0",
   "metadata": {},
   "outputs": [
    {
     "name": "stdout",
     "output_type": "stream",
     "text": [
      "The 2022-01-04 is finished. Elapsed time is 13.629462480545044 seconds.\n",
      "The 2022-01-05 is finished. Elapsed time is 0.4644284248352051 seconds.\n",
      "The 2022-01-06 is finished. Elapsed time is 0.4622969627380371 seconds.\n",
      "The 2022-01-07 is finished. Elapsed time is 0.7449972629547119 seconds.\n",
      "The 2022-01-10 is finished. Elapsed time is 0.5672264099121094 seconds.\n",
      "The 2022-01-11 is finished. Elapsed time is 0.9384832382202148 seconds.\n",
      "The 2022-01-12 is finished. Elapsed time is 0.6380221843719482 seconds.\n",
      "The 2022-01-13 is finished. Elapsed time is 0.5366456508636475 seconds.\n",
      "The 2022-01-14 is finished. Elapsed time is 0.8418676853179932 seconds.\n",
      "The 2022-01-17 is finished. Elapsed time is 0.9818775653839111 seconds.\n",
      "The 2022-01-18 is finished. Elapsed time is 0.9363741874694824 seconds.\n",
      "The 2022-01-19 is finished. Elapsed time is 0.973344087600708 seconds.\n",
      "The 2022-01-20 is finished. Elapsed time is 0.8428158760070801 seconds.\n",
      "The 2022-01-21 is finished. Elapsed time is 0.8278946876525879 seconds.\n",
      "The 2022-01-24 is finished. Elapsed time is 0.8549244403839111 seconds.\n",
      "The 2022-01-25 is finished. Elapsed time is 0.7949373722076416 seconds.\n",
      "The 2022-01-26 is finished. Elapsed time is 0.6143925189971924 seconds.\n",
      "The 2022-01-27 is finished. Elapsed time is 0.5608367919921875 seconds.\n",
      "The 2022-01-28 is finished. Elapsed time is 0.5825910568237305 seconds.\n",
      "The 2022-01-31 is finished. Elapsed time is 0.5910618305206299 seconds.\n",
      "The 2022-02-01 is finished. Elapsed time is 0.6018843650817871 seconds.\n",
      "The 2022-02-02 is finished. Elapsed time is 0.5798671245574951 seconds.\n",
      "The 2022-02-03 is finished. Elapsed time is 0.5257563591003418 seconds.\n",
      "The 2022-02-04 is finished. Elapsed time is 0.5288398265838623 seconds.\n",
      "The 2022-02-07 is finished. Elapsed time is 0.49602699279785156 seconds.\n",
      "The 2022-02-08 is finished. Elapsed time is 0.6695950031280518 seconds.\n",
      "The 2022-02-09 is finished. Elapsed time is 0.505638837814331 seconds.\n",
      "The 2022-02-10 is finished. Elapsed time is 0.6513862609863281 seconds.\n",
      "The 2022-02-11 is finished. Elapsed time is 0.7361598014831543 seconds.\n",
      "The 2022-02-14 is finished. Elapsed time is 0.44539594650268555 seconds.\n",
      "The 2022-02-15 is finished. Elapsed time is 0.6041672229766846 seconds.\n",
      "The 2022-02-16 is finished. Elapsed time is 0.5317676067352295 seconds.\n",
      "The 2022-02-17 is finished. Elapsed time is 0.7225697040557861 seconds.\n",
      "The 2022-02-18 is finished. Elapsed time is 0.576181173324585 seconds.\n",
      "The 2022-02-21 is finished. Elapsed time is 0.43007421493530273 seconds.\n",
      "The 2022-02-22 is finished. Elapsed time is 0.5315232276916504 seconds.\n",
      "The 2022-02-23 is finished. Elapsed time is 0.7043654918670654 seconds.\n",
      "The 2022-02-24 is finished. Elapsed time is 0.6525673866271973 seconds.\n",
      "The 2022-02-25 is finished. Elapsed time is 0.5588393211364746 seconds.\n",
      "The 2022-03-01 is finished. Elapsed time is 0.6831324100494385 seconds.\n",
      "The 2022-03-02 is finished. Elapsed time is 0.6811137199401855 seconds.\n",
      "The 2022-03-03 is finished. Elapsed time is 0.6284875869750977 seconds.\n",
      "The 2022-03-04 is finished. Elapsed time is 0.5998711585998535 seconds.\n",
      "The 2022-03-07 is finished. Elapsed time is 0.5333757400512695 seconds.\n",
      "The 2022-03-08 is finished. Elapsed time is 0.4641716480255127 seconds.\n",
      "The 2022-03-09 is finished. Elapsed time is 0.6071710586547852 seconds.\n",
      "The 2022-03-10 is finished. Elapsed time is 0.509648323059082 seconds.\n",
      "The 2022-03-11 is finished. Elapsed time is 0.5774490833282471 seconds.\n",
      "The 2022-03-14 is finished. Elapsed time is 0.4837007522583008 seconds.\n",
      "The 2022-03-15 is finished. Elapsed time is 0.6600463390350342 seconds.\n",
      "The 2022-03-16 is finished. Elapsed time is 0.5264573097229004 seconds.\n",
      "The 2022-03-17 is finished. Elapsed time is 0.5863268375396729 seconds.\n",
      "The 2022-03-18 is finished. Elapsed time is 0.4436774253845215 seconds.\n",
      "The 2022-03-21 is finished. Elapsed time is 0.6004805564880371 seconds.\n",
      "The 2022-03-22 is finished. Elapsed time is 0.5666317939758301 seconds.\n",
      "The 2022-03-23 is finished. Elapsed time is 0.6749091148376465 seconds.\n",
      "The 2022-03-24 is finished. Elapsed time is 0.705958366394043 seconds.\n",
      "The 2022-03-25 is finished. Elapsed time is 0.532644510269165 seconds.\n",
      "The 2022-03-28 is finished. Elapsed time is 0.6101744174957275 seconds.\n",
      "The 2022-03-29 is finished. Elapsed time is 0.7138862609863281 seconds.\n",
      "The 2022-03-30 is finished. Elapsed time is 0.5230846405029297 seconds.\n",
      "The 2022-03-31 is finished. Elapsed time is 0.5592257976531982 seconds.\n",
      "The 2022-04-01 is finished. Elapsed time is 0.5452015399932861 seconds.\n",
      "The 2022-04-04 is finished. Elapsed time is 0.4879884719848633 seconds.\n",
      "The 2022-04-05 is finished. Elapsed time is 0.7656593322753906 seconds.\n",
      "The 2022-04-06 is finished. Elapsed time is 0.6055197715759277 seconds.\n",
      "The 2022-04-07 is finished. Elapsed time is 0.5641200542449951 seconds.\n",
      "The 2022-04-08 is finished. Elapsed time is 0.48494696617126465 seconds.\n",
      "The 2022-04-11 is finished. Elapsed time is 0.6796090602874756 seconds.\n",
      "The 2022-04-12 is finished. Elapsed time is 0.4767496585845947 seconds.\n",
      "The 2022-04-13 is finished. Elapsed time is 0.6153719425201416 seconds.\n",
      "The 2022-04-14 is finished. Elapsed time is 0.4951310157775879 seconds.\n",
      "The 2022-04-19 is finished. Elapsed time is 0.5620975494384766 seconds.\n",
      "The 2022-04-20 is finished. Elapsed time is 0.4846169948577881 seconds.\n",
      "The 2022-04-21 is finished. Elapsed time is 0.9135446548461914 seconds.\n",
      "The 2022-04-22 is finished. Elapsed time is 0.5972650051116943 seconds.\n",
      "The 2022-04-25 is finished. Elapsed time is 0.5018448829650879 seconds.\n",
      "The 2022-04-26 is finished. Elapsed time is 0.5072453022003174 seconds.\n",
      "The 2022-04-27 is finished. Elapsed time is 0.5360665321350098 seconds.\n",
      "The 2022-04-28 is finished. Elapsed time is 0.5132718086242676 seconds.\n",
      "The 2022-04-29 is finished. Elapsed time is 0.6736640930175781 seconds.\n",
      "Total .csv file Read time: 62.91862607002258\n"
     ]
    }
   ],
   "source": [
    "#Read the dataset of tapes.csv file\n",
    "\n",
    "from time import time\n",
    "tape_csv = []\n",
    "\n",
    "total_time = 0\n",
    "for the_date in exact_date:\n",
    "    t1 = time()\n",
    "    tape_from_s3 = 's3://{}/{}'.format(bucket,subfolder+'/Tst'+the_date+'tapes.csv')\n",
    "\n",
    "    try: \n",
    "        tape_csv.append(pd.DataFrame(pd.read_csv(tape_from_s3,header = None)))\n",
    "    except:\n",
    "        continue\n",
    "    t2 = time()\n",
    "    total_time += t2 - t1\n",
    "    print('The {} is finished. Elapsed time is {} seconds.'.format(the_date,t2-t1))\n",
    "\n",
    "print(\"Total .csv file Read time: {}\".format(total_time))\n",
    "\n",
    "\n",
    "\n"
   ]
  },
  {
   "cell_type": "code",
   "execution_count": 5,
   "id": "695565b5",
   "metadata": {},
   "outputs": [
    {
     "name": "stdout",
     "output_type": "stream",
     "text": [
      "There are 5230364 rows and 11 columns of the full csv frame.\n",
      "              0          1       2    3                        4   \\\n",
      "0  Tst2022-01-04   Exch0Lit   8.192  203   {'pool_id': 'Exch0Lit'   \n",
      "1  Tst2022-01-04   Exch0Lit   8.192  199   {'pool_id': 'Exch0Lit'   \n",
      "2  Tst2022-01-04   Exch0Lit  10.336  196   {'pool_id': 'Exch0Lit'   \n",
      "3  Tst2022-01-04   Exch0Lit  10.672  196   {'pool_id': 'Exch0Lit'   \n",
      "4  Tst2022-01-04   Exch0Lit  11.040  201   {'pool_id': 'Exch0Lit'   \n",
      "\n",
      "                 5                6              7          8   \\\n",
      "0   'type': 'Trade'    'time': 8.192   'price': 203   'qty': 2   \n",
      "1   'type': 'Trade'    'time': 8.192   'price': 199   'qty': 3   \n",
      "2   'type': 'Trade'   'time': 10.336   'price': 196   'qty': 3   \n",
      "3   'type': 'Trade'   'time': 10.672   'price': 196   'qty': 4   \n",
      "4   'type': 'Trade'    'time': 11.04   'price': 201   'qty': 1   \n",
      "\n",
      "                 9                  10  \n",
      "0   'party1': 'S26'   'party2': 'B24'}  \n",
      "1   'party1': 'S26'   'party2': 'B08'}  \n",
      "2   'party1': 'S06'   'party2': 'B07'}  \n",
      "3   'party1': 'S01'   'party2': 'B01'}  \n",
      "4   'party1': 'S12'   'party2': 'B31'}  \n"
     ]
    }
   ],
   "source": [
    "full_csv_frame = pd.concat(tape_csv)\n",
    "print(\"There are {} rows and {} columns of the full csv frame.\".format(full_csv_frame.shape[0],full_csv_frame.shape[1]))\n",
    "print(full_csv_frame[:5])"
   ]
  },
  {
   "cell_type": "markdown",
   "id": "339c329c",
   "metadata": {},
   "source": [
    "## 1.2 Read all the LOB data\n"
   ]
  },
  {
   "cell_type": "code",
   "execution_count": 6,
   "id": "c5178c77",
   "metadata": {},
   "outputs": [
    {
     "name": "stdout",
     "output_type": "stream",
     "text": [
      "Looking in indexes: https://pypi.org/simple, https://pip.repos.neuron.amazonaws.com\n",
      "Collecting smart_open\n",
      "  Downloading smart_open-5.2.1-py3-none-any.whl (58 kB)\n",
      "     |████████████████████████████████| 58 kB 8.7 MB/s             \n",
      "\u001b[?25hInstalling collected packages: smart-open\n",
      "Successfully installed smart-open-5.2.1\n",
      "Looking in indexes: https://pypi.org/simple, https://pip.repos.neuron.amazonaws.com\n",
      "Collecting ijson\n",
      "  Downloading ijson-3.1.4-cp36-cp36m-manylinux2010_x86_64.whl (124 kB)\n",
      "     |████████████████████████████████| 124 kB 27.6 MB/s            \n",
      "\u001b[?25hInstalling collected packages: ijson\n",
      "Successfully installed ijson-3.1.4\n"
     ]
    }
   ],
   "source": [
    "!pip install smart_open\n",
    "!pip install ijson\n",
    "from smart_open import smart_open\n",
    "import ijson"
   ]
  },
  {
   "cell_type": "code",
   "execution_count": 7,
   "id": "a5443a92",
   "metadata": {},
   "outputs": [
    {
     "name": "stdout",
     "output_type": "stream",
     "text": [
      "CPU times: user 832 µs, sys: 196 µs, total: 1.03 ms\n",
      "Wall time: 1.02 ms\n"
     ]
    }
   ],
   "source": [
    "%%time\n",
    "import json\n",
    "import re\n",
    "#'s3://project-b-data/proj-b/dataset-b01/Tst2022-01-04LOBs.txt'\n",
    "with smart_open('Example.txt',encoding='utf-8') as f:\n",
    "    data = f.read()\n",
    "data = data.replace(',',':')\n",
    "data=data.replace(']\\n[',',')\n",
    "data = data.replace(']:','],')"
   ]
  },
  {
   "cell_type": "code",
   "execution_count": 8,
   "id": "fac144bf",
   "metadata": {},
   "outputs": [
    {
     "name": "stdout",
     "output_type": "stream",
     "text": [
      "[\n",
      "    \"time\":\n",
      "    0.0:\n",
      "    [\n",
      "        \"bid\":\n",
      "        []\n",
      "    ],\n",
      "    [\n",
      "        \"ask\":\n",
      "        []\n",
      "    ]\n",
      ",\n",
      "    \"time\":\n",
      "    0.016:\n",
      "    [\n",
      "        \"bid\":\n",
      "        []\n",
      "    ],\n",
      "    [\n",
      "        \"ask\":\n",
      "        []\n",
      "    ]\n",
      "]\n"
     ]
    }
   ],
   "source": [
    "print(data)"
   ]
  },
  {
   "cell_type": "code",
   "execution_count": null,
   "id": "c64b41c5",
   "metadata": {},
   "outputs": [],
   "source": []
  },
  {
   "cell_type": "code",
   "execution_count": 9,
   "id": "59698843",
   "metadata": {},
   "outputs": [],
   "source": [
    "ijson.parse??"
   ]
  },
  {
   "cell_type": "code",
   "execution_count": 10,
   "id": "a7553e02",
   "metadata": {},
   "outputs": [],
   "source": [
    "def parse_json(json_filename):\n",
    "    with smart_open(json_filename, 'rb') as input_file:\n",
    "        # load json iteratively\n",
    "        parser = ijson.parse(input_file,multiple_values=True)\n",
    "        for prefix, event, value in parser:\n",
    "            print(value)\n",
    "            "
   ]
  },
  {
   "cell_type": "code",
   "execution_count": 12,
   "id": "a90350c5",
   "metadata": {},
   "outputs": [],
   "source": [
    "#parse_json(data)"
   ]
  },
  {
   "cell_type": "code",
   "execution_count": null,
   "id": "79dd2ff1",
   "metadata": {},
   "outputs": [],
   "source": []
  },
  {
   "cell_type": "code",
   "execution_count": 13,
   "id": "dc30e47a",
   "metadata": {},
   "outputs": [
    {
     "ename": "NameError",
     "evalue": "name 'df' is not defined",
     "output_type": "error",
     "traceback": [
      "\u001b[0;31m---------------------------------------------------------------------------\u001b[0m",
      "\u001b[0;31mNameError\u001b[0m                                 Traceback (most recent call last)",
      "\u001b[0;32m<ipython-input-13-9d15f6e5f600>\u001b[0m in \u001b[0;36m<module>\u001b[0;34m\u001b[0m\n\u001b[1;32m      2\u001b[0m \u001b[0mbid\u001b[0m \u001b[0;34m=\u001b[0m \u001b[0;34m[\u001b[0m\u001b[0;34m]\u001b[0m\u001b[0;34m\u001b[0m\u001b[0;34m\u001b[0m\u001b[0m\n\u001b[1;32m      3\u001b[0m \u001b[0mask\u001b[0m \u001b[0;34m=\u001b[0m \u001b[0;34m[\u001b[0m\u001b[0;34m]\u001b[0m\u001b[0;34m\u001b[0m\u001b[0;34m\u001b[0m\u001b[0m\n\u001b[0;32m----> 4\u001b[0;31m \u001b[0;32mfor\u001b[0m \u001b[0mi\u001b[0m \u001b[0;32min\u001b[0m \u001b[0mrange\u001b[0m\u001b[0;34m(\u001b[0m\u001b[0mint\u001b[0m\u001b[0;34m(\u001b[0m\u001b[0mdf\u001b[0m\u001b[0;34m.\u001b[0m\u001b[0mshape\u001b[0m\u001b[0;34m[\u001b[0m\u001b[0;36m0\u001b[0m\u001b[0;34m]\u001b[0m\u001b[0;34m/\u001b[0m\u001b[0;36m4\u001b[0m\u001b[0;34m)\u001b[0m\u001b[0;34m)\u001b[0m\u001b[0;34m:\u001b[0m\u001b[0;34m\u001b[0m\u001b[0;34m\u001b[0m\u001b[0m\n\u001b[0m\u001b[1;32m      5\u001b[0m     \u001b[0mtime\u001b[0m\u001b[0;34m.\u001b[0m\u001b[0mappend\u001b[0m\u001b[0;34m(\u001b[0m\u001b[0mdf\u001b[0m\u001b[0;34m.\u001b[0m\u001b[0miloc\u001b[0m\u001b[0;34m[\u001b[0m\u001b[0mi\u001b[0m\u001b[0;34m*\u001b[0m\u001b[0;36m4\u001b[0m\u001b[0;34m+\u001b[0m\u001b[0;36m1\u001b[0m\u001b[0;34m]\u001b[0m\u001b[0;34m.\u001b[0m\u001b[0mvalues\u001b[0m\u001b[0;34m[\u001b[0m\u001b[0;36m0\u001b[0m\u001b[0;34m]\u001b[0m\u001b[0;34m)\u001b[0m\u001b[0;34m\u001b[0m\u001b[0;34m\u001b[0m\u001b[0m\n\u001b[1;32m      6\u001b[0m     \u001b[0mbid\u001b[0m\u001b[0;34m.\u001b[0m\u001b[0mappend\u001b[0m\u001b[0;34m(\u001b[0m\u001b[0mdf\u001b[0m\u001b[0;34m.\u001b[0m\u001b[0miloc\u001b[0m\u001b[0;34m[\u001b[0m\u001b[0mi\u001b[0m\u001b[0;34m*\u001b[0m\u001b[0;36m4\u001b[0m\u001b[0;34m+\u001b[0m\u001b[0;36m2\u001b[0m\u001b[0;34m]\u001b[0m\u001b[0;34m.\u001b[0m\u001b[0mvalues\u001b[0m\u001b[0;34m[\u001b[0m\u001b[0;36m0\u001b[0m\u001b[0;34m]\u001b[0m\u001b[0;34m[\u001b[0m\u001b[0;36m1\u001b[0m\u001b[0;34m]\u001b[0m\u001b[0;34m)\u001b[0m\u001b[0;34m\u001b[0m\u001b[0;34m\u001b[0m\u001b[0m\n",
      "\u001b[0;31mNameError\u001b[0m: name 'df' is not defined"
     ]
    }
   ],
   "source": [
    "time = []\n",
    "bid = []\n",
    "ask = []\n",
    "for i in range(int(df.shape[0]/4)):\n",
    "    time.append(df.iloc[i*4+1].values[0])\n",
    "    bid.append(df.iloc[i*4+2].values[0][1])\n",
    "    ask.append(df.iloc[i*4+3].values[0][1])\n",
    "    \n",
    "print(time)\n",
    "print(\"-------\")\n",
    "print(bid)\n",
    "print(ask)\n",
    "\n",
    "print(pd.DataFrame([time,bid,ask]).transpose())"
   ]
  },
  {
   "cell_type": "code",
   "execution_count": null,
   "id": "c9d213a0",
   "metadata": {},
   "outputs": [],
   "source": []
  },
  {
   "cell_type": "markdown",
   "id": "020dfac8",
   "metadata": {},
   "source": [
    "# 2. Exploratory Data Analysis"
   ]
  },
  {
   "cell_type": "code",
   "execution_count": 89,
   "id": "b697e6d9",
   "metadata": {},
   "outputs": [
    {
     "name": "stdout",
     "output_type": "stream",
     "text": [
      "0         'price': 203\n",
      "1         'price': 199\n",
      "2         'price': 196\n",
      "3         'price': 196\n",
      "4         'price': 201\n",
      "             ...      \n",
      "64888     'price': 134\n",
      "64889     'price': 134\n",
      "64890     'price': 134\n",
      "64891     'price': 134\n",
      "64892     'price': 133\n",
      "Name: 7, Length: 5230364, dtype: object\n"
     ]
    }
   ],
   "source": [
    "print(full_csv_frame[7])"
   ]
  },
  {
   "cell_type": "code",
   "execution_count": 84,
   "id": "99bdeba2",
   "metadata": {},
   "outputs": [
    {
     "name": "stderr",
     "output_type": "stream",
     "text": [
      "Matplotlib is building the font cache; this may take a moment.\n"
     ]
    },
    {
     "ename": "KeyError",
     "evalue": "7",
     "output_type": "error",
     "traceback": [
      "\u001b[0;31m---------------------------------------------------------------------------\u001b[0m",
      "\u001b[0;31mValueError\u001b[0m                                Traceback (most recent call last)",
      "\u001b[0;32m~/anaconda3/envs/python3/lib/python3.6/site-packages/pandas/core/indexes/range.py\u001b[0m in \u001b[0;36mget_loc\u001b[0;34m(self, key, method, tolerance)\u001b[0m\n\u001b[1;32m    354\u001b[0m                 \u001b[0;32mtry\u001b[0m\u001b[0;34m:\u001b[0m\u001b[0;34m\u001b[0m\u001b[0;34m\u001b[0m\u001b[0m\n\u001b[0;32m--> 355\u001b[0;31m                     \u001b[0;32mreturn\u001b[0m \u001b[0mself\u001b[0m\u001b[0;34m.\u001b[0m\u001b[0m_range\u001b[0m\u001b[0;34m.\u001b[0m\u001b[0mindex\u001b[0m\u001b[0;34m(\u001b[0m\u001b[0mnew_key\u001b[0m\u001b[0;34m)\u001b[0m\u001b[0;34m\u001b[0m\u001b[0;34m\u001b[0m\u001b[0m\n\u001b[0m\u001b[1;32m    356\u001b[0m                 \u001b[0;32mexcept\u001b[0m \u001b[0mValueError\u001b[0m \u001b[0;32mas\u001b[0m \u001b[0merr\u001b[0m\u001b[0;34m:\u001b[0m\u001b[0;34m\u001b[0m\u001b[0;34m\u001b[0m\u001b[0m\n",
      "\u001b[0;31mValueError\u001b[0m: 7 is not in range",
      "\nThe above exception was the direct cause of the following exception:\n",
      "\u001b[0;31mKeyError\u001b[0m                                  Traceback (most recent call last)",
      "\u001b[0;32m<ipython-input-84-80a33b567d86>\u001b[0m in \u001b[0;36m<module>\u001b[0;34m\u001b[0m\n\u001b[1;32m      1\u001b[0m \u001b[0;32mimport\u001b[0m \u001b[0mmatplotlib\u001b[0m\u001b[0;34m.\u001b[0m\u001b[0mpyplot\u001b[0m \u001b[0;32mas\u001b[0m \u001b[0mplt\u001b[0m\u001b[0;34m\u001b[0m\u001b[0;34m\u001b[0m\u001b[0m\n\u001b[0;32m----> 2\u001b[0;31m \u001b[0mplt\u001b[0m\u001b[0;34m.\u001b[0m\u001b[0mplot\u001b[0m\u001b[0;34m(\u001b[0m\u001b[0mdf\u001b[0m\u001b[0;34m[\u001b[0m\u001b[0;36m7\u001b[0m\u001b[0;34m]\u001b[0m\u001b[0;34m)\u001b[0m\u001b[0;34m\u001b[0m\u001b[0;34m\u001b[0m\u001b[0m\n\u001b[0m",
      "\u001b[0;32m~/anaconda3/envs/python3/lib/python3.6/site-packages/pandas/core/frame.py\u001b[0m in \u001b[0;36m__getitem__\u001b[0;34m(self, key)\u001b[0m\n\u001b[1;32m   2904\u001b[0m             \u001b[0;32mif\u001b[0m \u001b[0mself\u001b[0m\u001b[0;34m.\u001b[0m\u001b[0mcolumns\u001b[0m\u001b[0;34m.\u001b[0m\u001b[0mnlevels\u001b[0m \u001b[0;34m>\u001b[0m \u001b[0;36m1\u001b[0m\u001b[0;34m:\u001b[0m\u001b[0;34m\u001b[0m\u001b[0;34m\u001b[0m\u001b[0m\n\u001b[1;32m   2905\u001b[0m                 \u001b[0;32mreturn\u001b[0m \u001b[0mself\u001b[0m\u001b[0;34m.\u001b[0m\u001b[0m_getitem_multilevel\u001b[0m\u001b[0;34m(\u001b[0m\u001b[0mkey\u001b[0m\u001b[0;34m)\u001b[0m\u001b[0;34m\u001b[0m\u001b[0;34m\u001b[0m\u001b[0m\n\u001b[0;32m-> 2906\u001b[0;31m             \u001b[0mindexer\u001b[0m \u001b[0;34m=\u001b[0m \u001b[0mself\u001b[0m\u001b[0;34m.\u001b[0m\u001b[0mcolumns\u001b[0m\u001b[0;34m.\u001b[0m\u001b[0mget_loc\u001b[0m\u001b[0;34m(\u001b[0m\u001b[0mkey\u001b[0m\u001b[0;34m)\u001b[0m\u001b[0;34m\u001b[0m\u001b[0;34m\u001b[0m\u001b[0m\n\u001b[0m\u001b[1;32m   2907\u001b[0m             \u001b[0;32mif\u001b[0m \u001b[0mis_integer\u001b[0m\u001b[0;34m(\u001b[0m\u001b[0mindexer\u001b[0m\u001b[0;34m)\u001b[0m\u001b[0;34m:\u001b[0m\u001b[0;34m\u001b[0m\u001b[0;34m\u001b[0m\u001b[0m\n\u001b[1;32m   2908\u001b[0m                 \u001b[0mindexer\u001b[0m \u001b[0;34m=\u001b[0m \u001b[0;34m[\u001b[0m\u001b[0mindexer\u001b[0m\u001b[0;34m]\u001b[0m\u001b[0;34m\u001b[0m\u001b[0;34m\u001b[0m\u001b[0m\n",
      "\u001b[0;32m~/anaconda3/envs/python3/lib/python3.6/site-packages/pandas/core/indexes/range.py\u001b[0m in \u001b[0;36mget_loc\u001b[0;34m(self, key, method, tolerance)\u001b[0m\n\u001b[1;32m    355\u001b[0m                     \u001b[0;32mreturn\u001b[0m \u001b[0mself\u001b[0m\u001b[0;34m.\u001b[0m\u001b[0m_range\u001b[0m\u001b[0;34m.\u001b[0m\u001b[0mindex\u001b[0m\u001b[0;34m(\u001b[0m\u001b[0mnew_key\u001b[0m\u001b[0;34m)\u001b[0m\u001b[0;34m\u001b[0m\u001b[0;34m\u001b[0m\u001b[0m\n\u001b[1;32m    356\u001b[0m                 \u001b[0;32mexcept\u001b[0m \u001b[0mValueError\u001b[0m \u001b[0;32mas\u001b[0m \u001b[0merr\u001b[0m\u001b[0;34m:\u001b[0m\u001b[0;34m\u001b[0m\u001b[0;34m\u001b[0m\u001b[0m\n\u001b[0;32m--> 357\u001b[0;31m                     \u001b[0;32mraise\u001b[0m \u001b[0mKeyError\u001b[0m\u001b[0;34m(\u001b[0m\u001b[0mkey\u001b[0m\u001b[0;34m)\u001b[0m \u001b[0;32mfrom\u001b[0m \u001b[0merr\u001b[0m\u001b[0;34m\u001b[0m\u001b[0;34m\u001b[0m\u001b[0m\n\u001b[0m\u001b[1;32m    358\u001b[0m             \u001b[0;32mraise\u001b[0m \u001b[0mKeyError\u001b[0m\u001b[0;34m(\u001b[0m\u001b[0mkey\u001b[0m\u001b[0;34m)\u001b[0m\u001b[0;34m\u001b[0m\u001b[0;34m\u001b[0m\u001b[0m\n\u001b[1;32m    359\u001b[0m         \u001b[0;32mreturn\u001b[0m \u001b[0msuper\u001b[0m\u001b[0;34m(\u001b[0m\u001b[0;34m)\u001b[0m\u001b[0;34m.\u001b[0m\u001b[0mget_loc\u001b[0m\u001b[0;34m(\u001b[0m\u001b[0mkey\u001b[0m\u001b[0;34m,\u001b[0m \u001b[0mmethod\u001b[0m\u001b[0;34m=\u001b[0m\u001b[0mmethod\u001b[0m\u001b[0;34m,\u001b[0m \u001b[0mtolerance\u001b[0m\u001b[0;34m=\u001b[0m\u001b[0mtolerance\u001b[0m\u001b[0;34m)\u001b[0m\u001b[0;34m\u001b[0m\u001b[0;34m\u001b[0m\u001b[0m\n",
      "\u001b[0;31mKeyError\u001b[0m: 7"
     ]
    }
   ],
   "source": [
    "import matplotlib.pyplot as plt\n",
    "plt.plot(df[7])"
   ]
  },
  {
   "cell_type": "code",
   "execution_count": null,
   "id": "be665a30",
   "metadata": {},
   "outputs": [],
   "source": []
  }
 ],
 "metadata": {
  "kernelspec": {
   "display_name": "conda_python3",
   "language": "python",
   "name": "conda_python3"
  },
  "language_info": {
   "codemirror_mode": {
    "name": "ipython",
    "version": 3
   },
   "file_extension": ".py",
   "mimetype": "text/x-python",
   "name": "python",
   "nbconvert_exporter": "python",
   "pygments_lexer": "ipython3",
   "version": "3.6.13"
  }
 },
 "nbformat": 4,
 "nbformat_minor": 5
}
