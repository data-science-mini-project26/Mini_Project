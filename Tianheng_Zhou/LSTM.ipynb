{
 "cells": [
  {
   "cell_type": "code",
   "execution_count": 1,
   "id": "c9509b20",
   "metadata": {},
   "outputs": [],
   "source": [
    "import pandas as pd\n",
    "import numpy as np\n",
    "from keras.models import Sequential\n",
    "from keras.layers import Dense, Dropout, Activation, Flatten, LSTM, TimeDistributed, RepeatVector\n",
    "from keras.layers.normalization import BatchNormalization\n",
    "from keras.optimizers import Adam\n",
    "from keras.callbacks import EarlyStopping, ModelCheckpoint\n",
    "from sklearn.preprocessing import StandardScaler, MinMaxScaler\n",
    "import matplotlib.pyplot as plt\n",
    "%matplotlib inline"
   ]
  },
  {
   "cell_type": "code",
   "execution_count": 2,
   "id": "3a5818eb",
   "metadata": {},
   "outputs": [],
   "source": [
    "import ast "
   ]
  },
  {
   "cell_type": "code",
   "execution_count": 3,
   "id": "3255c386",
   "metadata": {},
   "outputs": [],
   "source": [
    "data = pd.read_csv(f\"s3://project-b-new/LOB_csv/LOB_csv2/2022-02-01-LOB-B02.csv\")"
   ]
  },
  {
   "cell_type": "code",
   "execution_count": 7,
   "id": "b76fe011",
   "metadata": {},
   "outputs": [
    {
     "data": {
      "text/html": [
       "<div>\n",
       "<style scoped>\n",
       "    .dataframe tbody tr th:only-of-type {\n",
       "        vertical-align: middle;\n",
       "    }\n",
       "\n",
       "    .dataframe tbody tr th {\n",
       "        vertical-align: top;\n",
       "    }\n",
       "\n",
       "    .dataframe thead th {\n",
       "        text-align: right;\n",
       "    }\n",
       "</style>\n",
       "<table border=\"1\" class=\"dataframe\">\n",
       "  <thead>\n",
       "    <tr style=\"text-align: right;\">\n",
       "      <th></th>\n",
       "      <th>Time</th>\n",
       "      <th>Bid</th>\n",
       "      <th>Ask</th>\n",
       "      <th>Date</th>\n",
       "      <th>new_bid</th>\n",
       "    </tr>\n",
       "  </thead>\n",
       "  <tbody>\n",
       "    <tr>\n",
       "      <th>0</th>\n",
       "      <td>0.000</td>\n",
       "      <td>[]</td>\n",
       "      <td>[]</td>\n",
       "      <td>2022-02-01</td>\n",
       "      <td>0.000000</td>\n",
       "    </tr>\n",
       "    <tr>\n",
       "      <th>1</th>\n",
       "      <td>0.017</td>\n",
       "      <td>[]</td>\n",
       "      <td>[]</td>\n",
       "      <td>2022-02-01</td>\n",
       "      <td>0.000000</td>\n",
       "    </tr>\n",
       "    <tr>\n",
       "      <th>2</th>\n",
       "      <td>0.034</td>\n",
       "      <td>[]</td>\n",
       "      <td>[]</td>\n",
       "      <td>2022-02-01</td>\n",
       "      <td>0.000000</td>\n",
       "    </tr>\n",
       "    <tr>\n",
       "      <th>3</th>\n",
       "      <td>0.051</td>\n",
       "      <td>[]</td>\n",
       "      <td>[]</td>\n",
       "      <td>2022-02-01</td>\n",
       "      <td>0.000000</td>\n",
       "    </tr>\n",
       "    <tr>\n",
       "      <th>4</th>\n",
       "      <td>0.068</td>\n",
       "      <td>[]</td>\n",
       "      <td>[]</td>\n",
       "      <td>2022-02-01</td>\n",
       "      <td>0.000000</td>\n",
       "    </tr>\n",
       "    <tr>\n",
       "      <th>...</th>\n",
       "      <td>...</td>\n",
       "      <td>...</td>\n",
       "      <td>...</td>\n",
       "      <td>...</td>\n",
       "      <td>...</td>\n",
       "    </tr>\n",
       "    <tr>\n",
       "      <th>1799995</th>\n",
       "      <td>30599.915</td>\n",
       "      <td>[[168, 5], [161, 2], [129, 3], [107, 4], [106,...</td>\n",
       "      <td>[[262, 4], [278, 1], [294, 5], [386, 2], [429,...</td>\n",
       "      <td>2022-02-01</td>\n",
       "      <td>122.818182</td>\n",
       "    </tr>\n",
       "    <tr>\n",
       "      <th>1799996</th>\n",
       "      <td>30599.932</td>\n",
       "      <td>[[168, 5], [161, 2], [129, 3], [107, 4], [106,...</td>\n",
       "      <td>[[262, 4], [278, 1], [294, 5], [386, 2], [429,...</td>\n",
       "      <td>2022-02-01</td>\n",
       "      <td>122.818182</td>\n",
       "    </tr>\n",
       "    <tr>\n",
       "      <th>1799997</th>\n",
       "      <td>30599.949</td>\n",
       "      <td>[[168, 5], [161, 2], [129, 3], [107, 4], [106,...</td>\n",
       "      <td>[[262, 4], [278, 1], [294, 5], [386, 2], [429,...</td>\n",
       "      <td>2022-02-01</td>\n",
       "      <td>122.818182</td>\n",
       "    </tr>\n",
       "    <tr>\n",
       "      <th>1799998</th>\n",
       "      <td>30599.966</td>\n",
       "      <td>[[168, 5], [161, 2], [129, 3], [107, 4], [106,...</td>\n",
       "      <td>[[262, 4], [278, 1], [294, 5], [386, 2], [429,...</td>\n",
       "      <td>2022-02-01</td>\n",
       "      <td>122.818182</td>\n",
       "    </tr>\n",
       "    <tr>\n",
       "      <th>1799999</th>\n",
       "      <td>30599.983</td>\n",
       "      <td>[[168, 5], [161, 2], [129, 3], [107, 4], [106,...</td>\n",
       "      <td>[[262, 4], [278, 1], [294, 5], [386, 2], [429,...</td>\n",
       "      <td>2022-02-01</td>\n",
       "      <td>122.818182</td>\n",
       "    </tr>\n",
       "  </tbody>\n",
       "</table>\n",
       "<p>1800000 rows × 5 columns</p>\n",
       "</div>"
      ],
      "text/plain": [
       "              Time                                                Bid  \\\n",
       "0            0.000                                                 []   \n",
       "1            0.017                                                 []   \n",
       "2            0.034                                                 []   \n",
       "3            0.051                                                 []   \n",
       "4            0.068                                                 []   \n",
       "...            ...                                                ...   \n",
       "1799995  30599.915  [[168, 5], [161, 2], [129, 3], [107, 4], [106,...   \n",
       "1799996  30599.932  [[168, 5], [161, 2], [129, 3], [107, 4], [106,...   \n",
       "1799997  30599.949  [[168, 5], [161, 2], [129, 3], [107, 4], [106,...   \n",
       "1799998  30599.966  [[168, 5], [161, 2], [129, 3], [107, 4], [106,...   \n",
       "1799999  30599.983  [[168, 5], [161, 2], [129, 3], [107, 4], [106,...   \n",
       "\n",
       "                                                       Ask        Date  \\\n",
       "0                                                       []  2022-02-01   \n",
       "1                                                       []  2022-02-01   \n",
       "2                                                       []  2022-02-01   \n",
       "3                                                       []  2022-02-01   \n",
       "4                                                       []  2022-02-01   \n",
       "...                                                    ...         ...   \n",
       "1799995  [[262, 4], [278, 1], [294, 5], [386, 2], [429,...  2022-02-01   \n",
       "1799996  [[262, 4], [278, 1], [294, 5], [386, 2], [429,...  2022-02-01   \n",
       "1799997  [[262, 4], [278, 1], [294, 5], [386, 2], [429,...  2022-02-01   \n",
       "1799998  [[262, 4], [278, 1], [294, 5], [386, 2], [429,...  2022-02-01   \n",
       "1799999  [[262, 4], [278, 1], [294, 5], [386, 2], [429,...  2022-02-01   \n",
       "\n",
       "            new_bid  \n",
       "0          0.000000  \n",
       "1          0.000000  \n",
       "2          0.000000  \n",
       "3          0.000000  \n",
       "4          0.000000  \n",
       "...             ...  \n",
       "1799995  122.818182  \n",
       "1799996  122.818182  \n",
       "1799997  122.818182  \n",
       "1799998  122.818182  \n",
       "1799999  122.818182  \n",
       "\n",
       "[1800000 rows x 5 columns]"
      ]
     },
     "execution_count": 7,
     "metadata": {},
     "output_type": "execute_result"
    }
   ],
   "source": [
    "data"
   ]
  },
  {
   "cell_type": "code",
   "execution_count": 4,
   "id": "2baddd6d",
   "metadata": {},
   "outputs": [],
   "source": [
    "import numpy as np\n",
    "def new_bid(bid):\n",
    "    vol = 0\n",
    "    price = 0\n",
    "    if type(bid) != float:\n",
    "        new_bid = ast.literal_eval(bid)\n",
    "        new_bid = np.array(new_bid)\n",
    "        if new_bid.size !=0:\n",
    "            for item in new_bid:\n",
    "                vol+= item[1]\n",
    "                price+= item[0]*item[1]\n",
    "            return price/vol\n",
    "        else:\n",
    "            return 0\n",
    "    else:\n",
    "        return 0"
   ]
  },
  {
   "cell_type": "code",
   "execution_count": 6,
   "id": "2e82c645",
   "metadata": {},
   "outputs": [],
   "source": [
    "data['new_bid'] = data.apply(lambda bid: new_bid(bid['Bid']), axis=1)"
   ]
  },
  {
   "cell_type": "code",
   "execution_count": 8,
   "id": "c4251ee0",
   "metadata": {},
   "outputs": [],
   "source": [
    "X = data[\"Time\"]"
   ]
  },
  {
   "cell_type": "code",
   "execution_count": 9,
   "id": "a7a49b05",
   "metadata": {},
   "outputs": [],
   "source": [
    "y = data[\"new_bid\"]"
   ]
  },
  {
   "cell_type": "code",
   "execution_count": 16,
   "id": "978784de",
   "metadata": {},
   "outputs": [
    {
     "data": {
      "text/plain": [
       "array([0.   , 0.017, 0.034])"
      ]
     },
     "execution_count": 16,
     "metadata": {},
     "output_type": "execute_result"
    }
   ],
   "source": [
    "X[0:3].values"
   ]
  },
  {
   "cell_type": "code",
   "execution_count": 60,
   "id": "31804596",
   "metadata": {},
   "outputs": [
    {
     "data": {
      "text/plain": [
       "array([  0.        ,   0.        ,   0.        , ..., 122.81818182,\n",
       "       122.81818182, 122.81818182])"
      ]
     },
     "execution_count": 60,
     "metadata": {},
     "output_type": "execute_result"
    }
   ],
   "source": [
    "y.values"
   ]
  },
  {
   "cell_type": "code",
   "execution_count": 76,
   "id": "c4253b58",
   "metadata": {},
   "outputs": [
    {
     "data": {
      "text/plain": [
       "0            0.000000\n",
       "1            0.000000\n",
       "2            0.000000\n",
       "3            0.000000\n",
       "4            0.000000\n",
       "              ...    \n",
       "1799995    122.818182\n",
       "1799996    122.818182\n",
       "1799997    122.818182\n",
       "1799998    122.818182\n",
       "1799999    122.818182\n",
       "Name: new_bid, Length: 1800000, dtype: float64"
      ]
     },
     "execution_count": 76,
     "metadata": {},
     "output_type": "execute_result"
    }
   ],
   "source": [
    "y"
   ]
  },
  {
   "cell_type": "code",
   "execution_count": 77,
   "id": "30883a87",
   "metadata": {},
   "outputs": [
    {
     "name": "stdout",
     "output_type": "stream",
     "text": [
      "                 sine\n",
      "Time                 \n",
      "0.000        0.000000\n",
      "0.017        0.000000\n",
      "0.034        0.000000\n",
      "0.051        0.000000\n",
      "0.068        0.000000\n",
      "...               ...\n",
      "30599.915  122.818182\n",
      "30599.932  122.818182\n",
      "30599.949  122.818182\n",
      "30599.966  122.818182\n",
      "30599.983  122.818182\n",
      "\n",
      "[1800000 rows x 1 columns]\n"
     ]
    }
   ],
   "source": [
    "df = pd.DataFrame(dict(sine=y.values), index=X, columns=['sine'])\n",
    "print(df)"
   ]
  },
  {
   "cell_type": "code",
   "execution_count": 78,
   "id": "2282ea60",
   "metadata": {},
   "outputs": [
    {
     "name": "stdout",
     "output_type": "stream",
     "text": [
      "1440000 360000\n"
     ]
    }
   ],
   "source": [
    "train_size = int(len(df) * 0.8)\n",
    "test_size = len(df) - train_size\n",
    "train, test = df.iloc[0:train_size], df.iloc[train_size:len(df)]\n",
    "print(len(train), len(test))"
   ]
  },
  {
   "cell_type": "code",
   "execution_count": 79,
   "id": "dc834698",
   "metadata": {},
   "outputs": [
    {
     "data": {
      "text/html": [
       "<div>\n",
       "<style scoped>\n",
       "    .dataframe tbody tr th:only-of-type {\n",
       "        vertical-align: middle;\n",
       "    }\n",
       "\n",
       "    .dataframe tbody tr th {\n",
       "        vertical-align: top;\n",
       "    }\n",
       "\n",
       "    .dataframe thead th {\n",
       "        text-align: right;\n",
       "    }\n",
       "</style>\n",
       "<table border=\"1\" class=\"dataframe\">\n",
       "  <thead>\n",
       "    <tr style=\"text-align: right;\">\n",
       "      <th></th>\n",
       "      <th>sine</th>\n",
       "    </tr>\n",
       "    <tr>\n",
       "      <th>Time</th>\n",
       "      <th></th>\n",
       "    </tr>\n",
       "  </thead>\n",
       "  <tbody>\n",
       "    <tr>\n",
       "      <th>0.000</th>\n",
       "      <td>0.000000</td>\n",
       "    </tr>\n",
       "    <tr>\n",
       "      <th>0.017</th>\n",
       "      <td>0.000000</td>\n",
       "    </tr>\n",
       "    <tr>\n",
       "      <th>0.034</th>\n",
       "      <td>0.000000</td>\n",
       "    </tr>\n",
       "    <tr>\n",
       "      <th>0.051</th>\n",
       "      <td>0.000000</td>\n",
       "    </tr>\n",
       "    <tr>\n",
       "      <th>0.068</th>\n",
       "      <td>0.000000</td>\n",
       "    </tr>\n",
       "    <tr>\n",
       "      <th>...</th>\n",
       "      <td>...</td>\n",
       "    </tr>\n",
       "    <tr>\n",
       "      <th>24479.915</th>\n",
       "      <td>112.846154</td>\n",
       "    </tr>\n",
       "    <tr>\n",
       "      <th>24479.932</th>\n",
       "      <td>112.846154</td>\n",
       "    </tr>\n",
       "    <tr>\n",
       "      <th>24479.949</th>\n",
       "      <td>112.846154</td>\n",
       "    </tr>\n",
       "    <tr>\n",
       "      <th>24479.966</th>\n",
       "      <td>112.846154</td>\n",
       "    </tr>\n",
       "    <tr>\n",
       "      <th>24479.983</th>\n",
       "      <td>112.846154</td>\n",
       "    </tr>\n",
       "  </tbody>\n",
       "</table>\n",
       "<p>1440000 rows × 1 columns</p>\n",
       "</div>"
      ],
      "text/plain": [
       "                 sine\n",
       "Time                 \n",
       "0.000        0.000000\n",
       "0.017        0.000000\n",
       "0.034        0.000000\n",
       "0.051        0.000000\n",
       "0.068        0.000000\n",
       "...               ...\n",
       "24479.915  112.846154\n",
       "24479.932  112.846154\n",
       "24479.949  112.846154\n",
       "24479.966  112.846154\n",
       "24479.983  112.846154\n",
       "\n",
       "[1440000 rows x 1 columns]"
      ]
     },
     "execution_count": 79,
     "metadata": {},
     "output_type": "execute_result"
    }
   ],
   "source": [
    "train"
   ]
  },
  {
   "cell_type": "code",
   "execution_count": 111,
   "id": "539019fc",
   "metadata": {},
   "outputs": [
    {
     "data": {
      "text/html": [
       "<div>\n",
       "<style scoped>\n",
       "    .dataframe tbody tr th:only-of-type {\n",
       "        vertical-align: middle;\n",
       "    }\n",
       "\n",
       "    .dataframe tbody tr th {\n",
       "        vertical-align: top;\n",
       "    }\n",
       "\n",
       "    .dataframe thead th {\n",
       "        text-align: right;\n",
       "    }\n",
       "</style>\n",
       "<table border=\"1\" class=\"dataframe\">\n",
       "  <thead>\n",
       "    <tr style=\"text-align: right;\">\n",
       "      <th></th>\n",
       "      <th>sine</th>\n",
       "    </tr>\n",
       "    <tr>\n",
       "      <th>Time</th>\n",
       "      <th></th>\n",
       "    </tr>\n",
       "  </thead>\n",
       "  <tbody>\n",
       "    <tr>\n",
       "      <th>24480.000</th>\n",
       "      <td>118.162791</td>\n",
       "    </tr>\n",
       "    <tr>\n",
       "      <th>24480.017</th>\n",
       "      <td>118.162791</td>\n",
       "    </tr>\n",
       "    <tr>\n",
       "      <th>24480.034</th>\n",
       "      <td>118.162791</td>\n",
       "    </tr>\n",
       "    <tr>\n",
       "      <th>24480.051</th>\n",
       "      <td>118.162791</td>\n",
       "    </tr>\n",
       "    <tr>\n",
       "      <th>24480.068</th>\n",
       "      <td>107.813953</td>\n",
       "    </tr>\n",
       "    <tr>\n",
       "      <th>...</th>\n",
       "      <td>...</td>\n",
       "    </tr>\n",
       "    <tr>\n",
       "      <th>30599.915</th>\n",
       "      <td>122.818182</td>\n",
       "    </tr>\n",
       "    <tr>\n",
       "      <th>30599.932</th>\n",
       "      <td>122.818182</td>\n",
       "    </tr>\n",
       "    <tr>\n",
       "      <th>30599.949</th>\n",
       "      <td>122.818182</td>\n",
       "    </tr>\n",
       "    <tr>\n",
       "      <th>30599.966</th>\n",
       "      <td>122.818182</td>\n",
       "    </tr>\n",
       "    <tr>\n",
       "      <th>30599.983</th>\n",
       "      <td>122.818182</td>\n",
       "    </tr>\n",
       "  </tbody>\n",
       "</table>\n",
       "<p>360000 rows × 1 columns</p>\n",
       "</div>"
      ],
      "text/plain": [
       "                 sine\n",
       "Time                 \n",
       "24480.000  118.162791\n",
       "24480.017  118.162791\n",
       "24480.034  118.162791\n",
       "24480.051  118.162791\n",
       "24480.068  107.813953\n",
       "...               ...\n",
       "30599.915  122.818182\n",
       "30599.932  122.818182\n",
       "30599.949  122.818182\n",
       "30599.966  122.818182\n",
       "30599.983  122.818182\n",
       "\n",
       "[360000 rows x 1 columns]"
      ]
     },
     "execution_count": 111,
     "metadata": {},
     "output_type": "execute_result"
    }
   ],
   "source": [
    "test"
   ]
  },
  {
   "cell_type": "code",
   "execution_count": 112,
   "id": "88758bed",
   "metadata": {},
   "outputs": [
    {
     "data": {
      "text/plain": [
       "(360000,)"
      ]
     },
     "execution_count": 112,
     "metadata": {},
     "output_type": "execute_result"
    }
   ],
   "source": [
    "test.index.to_numpy().shape"
   ]
  },
  {
   "cell_type": "code",
   "execution_count": 80,
   "id": "246be7b6",
   "metadata": {},
   "outputs": [],
   "source": [
    "def create_dataset(X, y, time_steps=1):\n",
    "    Xs, ys = [], []\n",
    "    for i in range(len(X) - time_steps):\n",
    "        v = X.iloc[i:(i + time_steps)].values\n",
    "        Xs.append(v)\n",
    "        ys.append(y.iloc[i + time_steps])\n",
    "    return np.array(Xs), np.array(ys)"
   ]
  },
  {
   "cell_type": "code",
   "execution_count": 81,
   "id": "d84b9c25",
   "metadata": {},
   "outputs": [
    {
     "name": "stdout",
     "output_type": "stream",
     "text": [
      "(1439999, 1, 1) (1439999,)\n"
     ]
    }
   ],
   "source": [
    "X_train, y_train = create_dataset(train, train.sine, 1)\n",
    "X_test, y_test = create_dataset(test, test.sine, 1)\n",
    "print(X_train.shape, y_train.shape)"
   ]
  },
  {
   "cell_type": "code",
   "execution_count": 82,
   "id": "f610bb49",
   "metadata": {},
   "outputs": [
    {
     "data": {
      "text/plain": [
       "array([[[0.]],\n",
       "\n",
       "       [[0.]],\n",
       "\n",
       "       [[0.]],\n",
       "\n",
       "       [[0.]],\n",
       "\n",
       "       [[0.]],\n",
       "\n",
       "       [[0.]],\n",
       "\n",
       "       [[0.]],\n",
       "\n",
       "       [[0.]],\n",
       "\n",
       "       [[0.]],\n",
       "\n",
       "       [[0.]],\n",
       "\n",
       "       [[0.]],\n",
       "\n",
       "       [[0.]],\n",
       "\n",
       "       [[0.]],\n",
       "\n",
       "       [[0.]],\n",
       "\n",
       "       [[0.]],\n",
       "\n",
       "       [[0.]],\n",
       "\n",
       "       [[0.]],\n",
       "\n",
       "       [[0.]],\n",
       "\n",
       "       [[0.]],\n",
       "\n",
       "       [[0.]]])"
      ]
     },
     "execution_count": 82,
     "metadata": {},
     "output_type": "execute_result"
    }
   ],
   "source": [
    "X_train[:20,:,:]"
   ]
  },
  {
   "cell_type": "code",
   "execution_count": 96,
   "id": "816629e7",
   "metadata": {},
   "outputs": [
    {
     "ename": "TypeError",
     "evalue": "tuple indices must be integers or slices, not tuple",
     "output_type": "error",
     "traceback": [
      "\u001b[0;31m---------------------------------------------------------------------------\u001b[0m",
      "\u001b[0;31mTypeError\u001b[0m                                 Traceback (most recent call last)",
      "\u001b[0;32m<ipython-input-96-478c7b7d3c0a>\u001b[0m in \u001b[0;36m<module>\u001b[0;34m\u001b[0m\n\u001b[0;32m----> 1\u001b[0;31m \u001b[0mX_test\u001b[0m\u001b[0;34m.\u001b[0m\u001b[0mshape\u001b[0m\u001b[0;34m[\u001b[0m\u001b[0;34m:\u001b[0m\u001b[0;36m20\u001b[0m\u001b[0;34m,\u001b[0m\u001b[0;34m:\u001b[0m\u001b[0;34m,\u001b[0m\u001b[0;34m:\u001b[0m\u001b[0;34m]\u001b[0m\u001b[0;34m\u001b[0m\u001b[0;34m\u001b[0m\u001b[0m\n\u001b[0m",
      "\u001b[0;31mTypeError\u001b[0m: tuple indices must be integers or slices, not tuple"
     ]
    }
   ],
   "source": []
  },
  {
   "cell_type": "code",
   "execution_count": 83,
   "id": "59e7e524",
   "metadata": {},
   "outputs": [],
   "source": [
    "import numpy as np\n",
    "import tensorflow as tf\n",
    "from tensorflow import keras\n",
    "import pandas as pd\n",
    "import seaborn as sns\n",
    "from pylab import rcParams\n",
    "import matplotlib.pyplot as plt\n",
    "from matplotlib import rc\n",
    "\n",
    "\n",
    "model = keras.Sequential()\n",
    "model.add(keras.layers.LSTM(\n",
    "  units=128,\n",
    "  input_shape=(X_train.shape[1], X_train.shape[2])\n",
    "))\n",
    "model.add(keras.layers.Dense(units=1))\n",
    "model.compile(\n",
    "  loss='mean_squared_error',\n",
    "  optimizer=keras.optimizers.Adam(0.001))"
   ]
  },
  {
   "cell_type": "code",
   "execution_count": 85,
   "id": "d75dcbe2",
   "metadata": {},
   "outputs": [
    {
     "name": "stdout",
     "output_type": "stream",
     "text": [
      "81000/81000 [==============================] - 149s 2ms/step - loss: 45.5107 - val_loss: 36.6007\n"
     ]
    }
   ],
   "source": [
    "history = model.fit(\n",
    "    X_train, y_train,\n",
    "    epochs=1,\n",
    "    batch_size=16,\n",
    "    validation_split=0.1,\n",
    "    verbose=1,\n",
    "    shuffle=False\n",
    ")"
   ]
  },
  {
   "cell_type": "code",
   "execution_count": 86,
   "id": "a82713ee",
   "metadata": {},
   "outputs": [],
   "source": [
    "y_pred = model.predict(X_test)"
   ]
  },
  {
   "cell_type": "code",
   "execution_count": 113,
   "id": "72e6e86e",
   "metadata": {},
   "outputs": [
    {
     "data": {
      "text/plain": [
       "Text(0.5, 1.0, 'LSTM One Day')"
      ]
     },
     "execution_count": 113,
     "metadata": {},
     "output_type": "execute_result"
    },
    {
     "data": {
      "image/png": "[encoded data removed]",
      "text/plain": [
       "<Figure size 432x288 with 1 Axes>"
      ]
     },
     "metadata": {
      "needs_background": "light"
     },
     "output_type": "display_data"
    }
   ],
   "source": [
    "fig, ax = plt.subplots()\n",
    "ax.plot(test.index.to_numpy()[:-1],y_test)\n",
    "ax.plot(test.index.to_numpy()[:-1],y_pred)\n",
    "ax.set_title(\"LSTM One Day\")\n",
    "\n"
   ]
  },
  {
   "cell_type": "code",
   "execution_count": 90,
   "id": "6ade0cda",
   "metadata": {},
   "outputs": [
    {
     "name": "stdout",
     "output_type": "stream",
     "text": [
      "[118.1627907  118.1627907  118.1627907  107.81395349 107.81395349\n",
      " 118.69767442 118.69767442 118.69767442 118.6744186  113.39583333\n",
      " 113.39583333 113.39583333 113.39583333 113.39583333 113.39583333\n",
      " 113.39583333 113.39583333 113.39583333 113.08333333 113.08333333\n",
      " 113.08333333 105.25       100.5625     100.5625     100.5625\n",
      " 100.5625     100.5625     100.5625     100.5625     100.5625    ] [[124.55333 ]\n",
      " [124.55333 ]\n",
      " [124.55333 ]\n",
      " [124.55333 ]\n",
      " [115.384766]\n",
      " [115.384766]\n",
      " [124.97677 ]\n",
      " [124.97677 ]\n",
      " [124.97677 ]\n",
      " [124.95846 ]\n",
      " [120.557915]\n",
      " [120.557915]\n",
      " [120.557915]\n",
      " [120.557915]\n",
      " [120.557915]\n",
      " [120.557915]\n",
      " [120.557915]\n",
      " [120.557915]\n",
      " [120.557915]\n",
      " [120.28218 ]\n",
      " [120.28218 ]\n",
      " [120.28218 ]\n",
      " [112.83971 ]\n",
      " [107.939354]\n",
      " [107.939354]\n",
      " [107.939354]\n",
      " [107.939354]\n",
      " [107.939354]\n",
      " [107.939354]\n",
      " [107.939354]]\n"
     ]
    }
   ],
   "source": [
    "print(y_test[:30],y_pred[:30])"
   ]
  },
  {
   "cell_type": "code",
   "execution_count": 89,
   "id": "e392d8b4",
   "metadata": {},
   "outputs": [
    {
     "data": {
      "text/plain": [
       "41.01535547702172"
      ]
     },
     "execution_count": 89,
     "metadata": {},
     "output_type": "execute_result"
    }
   ],
   "source": [
    "from sklearn.metrics import mean_squared_error\n",
    "mean_squared_error(y_test,y_pred)"
   ]
  },
  {
   "cell_type": "code",
   "execution_count": null,
   "id": "99a8eb29",
   "metadata": {},
   "outputs": [],
   "source": []
  },
  {
   "cell_type": "code",
   "execution_count": null,
   "id": "3f238b03",
   "metadata": {},
   "outputs": [],
   "source": []
  },
  {
   "cell_type": "code",
   "execution_count": null,
   "id": "7f30c3ec",
   "metadata": {},
   "outputs": [],
   "source": []
  },
  {
   "cell_type": "code",
   "execution_count": null,
   "id": "2ac95cab",
   "metadata": {},
   "outputs": [],
   "source": []
  },
  {
   "cell_type": "code",
   "execution_count": null,
   "id": "54b14716",
   "metadata": {},
   "outputs": [],
   "source": []
  },
  {
   "cell_type": "code",
   "execution_count": 36,
   "id": "a16a9bc9",
   "metadata": {},
   "outputs": [
    {
     "data": {
      "text/plain": [
       "array([[0.        ],\n",
       "       [0.        ],\n",
       "       [0.        ],\n",
       "       ...,\n",
       "       [0.72163829],\n",
       "       [0.72163829],\n",
       "       [0.72163829]])"
      ]
     },
     "execution_count": 36,
     "metadata": {},
     "output_type": "execute_result"
    }
   ],
   "source": [
    "dataset"
   ]
  },
  {
   "cell_type": "code",
   "execution_count": 37,
   "id": "32c31026",
   "metadata": {},
   "outputs": [],
   "source": []
  },
  {
   "cell_type": "code",
   "execution_count": 39,
   "id": "8dd8cca8",
   "metadata": {},
   "outputs": [
    {
     "data": {
      "text/plain": [
       "array([[0.        ],\n",
       "       [0.        ],\n",
       "       [0.        ],\n",
       "       ...,\n",
       "       [0.66304601],\n",
       "       [0.66304601],\n",
       "       [0.66304601]])"
      ]
     },
     "execution_count": 39,
     "metadata": {},
     "output_type": "execute_result"
    }
   ],
   "source": []
  },
  {
   "cell_type": "code",
   "execution_count": 45,
   "id": "ee7291c8",
   "metadata": {},
   "outputs": [
    {
     "data": {
      "text/plain": [
       "array([[0.69428478],\n",
       "       [0.69428478],\n",
       "       [0.69428478],\n",
       "       [0.69428478],\n",
       "       [0.6334785 ],\n",
       "       [0.6334785 ],\n",
       "       [0.69742758],\n",
       "       [0.69742758],\n",
       "       [0.69742758],\n",
       "       [0.69729094],\n",
       "       [0.66627575],\n",
       "       [0.66627575],\n",
       "       [0.66627575],\n",
       "       [0.66627575],\n",
       "       [0.66627575],\n",
       "       [0.66627575],\n",
       "       [0.66627575],\n",
       "       [0.66627575],\n",
       "       [0.66627575],\n",
       "       [0.6644396 ],\n",
       "       [0.6644396 ],\n",
       "       [0.6644396 ],\n",
       "       [0.61841357],\n",
       "       [0.5908714 ],\n",
       "       [0.5908714 ],\n",
       "       [0.5908714 ],\n",
       "       [0.5908714 ],\n",
       "       [0.5908714 ],\n",
       "       [0.5908714 ],\n",
       "       [0.5908714 ]])"
      ]
     },
     "execution_count": 45,
     "metadata": {},
     "output_type": "execute_result"
    }
   ],
   "source": []
  },
  {
   "cell_type": "code",
   "execution_count": null,
   "id": "151bed7b",
   "metadata": {},
   "outputs": [],
   "source": []
  },
  {
   "cell_type": "code",
   "execution_count": 40,
   "id": "0527aca9",
   "metadata": {},
   "outputs": [
    {
     "name": "stdout",
     "output_type": "stream",
     "text": [
      "(1440000, 1) (360000, 1)\n"
     ]
    }
   ],
   "source": []
  },
  {
   "cell_type": "code",
   "execution_count": 46,
   "id": "6d6f3f90",
   "metadata": {},
   "outputs": [
    {
     "data": {
      "text/plain": [
       "array([[0.]])"
      ]
     },
     "execution_count": 46,
     "metadata": {},
     "output_type": "execute_result"
    }
   ],
   "source": []
  },
  {
   "cell_type": "code",
   "execution_count": 48,
   "id": "d1710335",
   "metadata": {},
   "outputs": [],
   "source": []
  },
  {
   "cell_type": "code",
   "execution_count": 53,
   "id": "c7c9eaa0",
   "metadata": {},
   "outputs": [],
   "source": []
  },
  {
   "cell_type": "code",
   "execution_count": 57,
   "id": "fd372dd2",
   "metadata": {},
   "outputs": [],
   "source": []
  },
  {
   "cell_type": "code",
   "execution_count": 58,
   "id": "d8567620",
   "metadata": {},
   "outputs": [
    {
     "data": {
      "text/plain": [
       "array([ 0. ,  0.1,  0.2,  0.3,  0.4,  0.5,  0.6,  0.7,  0.8,  0.9,  1. ,\n",
       "        1.1,  1.2,  1.3,  1.4,  1.5,  1.6,  1.7,  1.8,  1.9,  2. ,  2.1,\n",
       "        2.2,  2.3,  2.4,  2.5,  2.6,  2.7,  2.8,  2.9,  3. ,  3.1,  3.2,\n",
       "        3.3,  3.4,  3.5,  3.6,  3.7,  3.8,  3.9,  4. ,  4.1,  4.2,  4.3,\n",
       "        4.4,  4.5,  4.6,  4.7,  4.8,  4.9,  5. ,  5.1,  5.2,  5.3,  5.4,\n",
       "        5.5,  5.6,  5.7,  5.8,  5.9,  6. ,  6.1,  6.2,  6.3,  6.4,  6.5,\n",
       "        6.6,  6.7,  6.8,  6.9,  7. ,  7.1,  7.2,  7.3,  7.4,  7.5,  7.6,\n",
       "        7.7,  7.8,  7.9,  8. ,  8.1,  8.2,  8.3,  8.4,  8.5,  8.6,  8.7,\n",
       "        8.8,  8.9,  9. ,  9.1,  9.2,  9.3,  9.4,  9.5,  9.6,  9.7,  9.8,\n",
       "        9.9, 10. , 10.1, 10.2, 10.3, 10.4, 10.5, 10.6, 10.7, 10.8, 10.9,\n",
       "       11. , 11.1, 11.2, 11.3, 11.4, 11.5, 11.6, 11.7, 11.8, 11.9, 12. ,\n",
       "       12.1, 12.2, 12.3, 12.4, 12.5, 12.6, 12.7, 12.8, 12.9, 13. , 13.1,\n",
       "       13.2, 13.3, 13.4, 13.5, 13.6, 13.7, 13.8, 13.9, 14. , 14.1, 14.2,\n",
       "       14.3, 14.4, 14.5, 14.6, 14.7, 14.8, 14.9, 15. , 15.1, 15.2, 15.3,\n",
       "       15.4, 15.5, 15.6, 15.7, 15.8, 15.9, 16. , 16.1, 16.2, 16.3, 16.4,\n",
       "       16.5, 16.6, 16.7, 16.8, 16.9, 17. , 17.1, 17.2, 17.3, 17.4, 17.5,\n",
       "       17.6, 17.7, 17.8, 17.9, 18. , 18.1, 18.2, 18.3, 18.4, 18.5, 18.6,\n",
       "       18.7, 18.8, 18.9, 19. , 19.1, 19.2, 19.3, 19.4, 19.5, 19.6, 19.7,\n",
       "       19.8, 19.9, 20. , 20.1, 20.2, 20.3, 20.4, 20.5, 20.6, 20.7, 20.8,\n",
       "       20.9, 21. , 21.1, 21.2, 21.3, 21.4, 21.5, 21.6, 21.7, 21.8, 21.9,\n",
       "       22. , 22.1, 22.2, 22.3, 22.4, 22.5, 22.6, 22.7, 22.8, 22.9, 23. ,\n",
       "       23.1, 23.2, 23.3, 23.4, 23.5, 23.6, 23.7, 23.8, 23.9, 24. , 24.1,\n",
       "       24.2, 24.3, 24.4, 24.5, 24.6, 24.7, 24.8, 24.9, 25. , 25.1, 25.2,\n",
       "       25.3, 25.4, 25.5, 25.6, 25.7, 25.8, 25.9, 26. , 26.1, 26.2, 26.3,\n",
       "       26.4, 26.5, 26.6, 26.7, 26.8, 26.9, 27. , 27.1, 27.2, 27.3, 27.4,\n",
       "       27.5, 27.6, 27.7, 27.8, 27.9, 28. , 28.1, 28.2, 28.3, 28.4, 28.5,\n",
       "       28.6, 28.7, 28.8, 28.9, 29. , 29.1, 29.2, 29.3, 29.4, 29.5, 29.6,\n",
       "       29.7, 29.8, 29.9, 30. , 30.1, 30.2, 30.3, 30.4, 30.5, 30.6, 30.7,\n",
       "       30.8, 30.9, 31. , 31.1, 31.2, 31.3, 31.4, 31.5, 31.6, 31.7, 31.8,\n",
       "       31.9, 32. , 32.1, 32.2, 32.3, 32.4, 32.5, 32.6, 32.7, 32.8, 32.9,\n",
       "       33. , 33.1, 33.2, 33.3, 33.4, 33.5, 33.6, 33.7, 33.8, 33.9, 34. ,\n",
       "       34.1, 34.2, 34.3, 34.4, 34.5, 34.6, 34.7, 34.8, 34.9, 35. , 35.1,\n",
       "       35.2, 35.3, 35.4, 35.5, 35.6, 35.7, 35.8, 35.9, 36. , 36.1, 36.2,\n",
       "       36.3, 36.4, 36.5, 36.6, 36.7, 36.8, 36.9, 37. , 37.1, 37.2, 37.3,\n",
       "       37.4, 37.5, 37.6, 37.7, 37.8, 37.9, 38. , 38.1, 38.2, 38.3, 38.4,\n",
       "       38.5, 38.6, 38.7, 38.8, 38.9, 39. , 39.1, 39.2, 39.3, 39.4, 39.5,\n",
       "       39.6, 39.7, 39.8, 39.9, 40. , 40.1, 40.2, 40.3, 40.4, 40.5, 40.6,\n",
       "       40.7, 40.8, 40.9, 41. , 41.1, 41.2, 41.3, 41.4, 41.5, 41.6, 41.7,\n",
       "       41.8, 41.9, 42. , 42.1, 42.2, 42.3, 42.4, 42.5, 42.6, 42.7, 42.8,\n",
       "       42.9, 43. , 43.1, 43.2, 43.3, 43.4, 43.5, 43.6, 43.7, 43.8, 43.9,\n",
       "       44. , 44.1, 44.2, 44.3, 44.4, 44.5, 44.6, 44.7, 44.8, 44.9, 45. ,\n",
       "       45.1, 45.2, 45.3, 45.4, 45.5, 45.6, 45.7, 45.8, 45.9, 46. , 46.1,\n",
       "       46.2, 46.3, 46.4, 46.5, 46.6, 46.7, 46.8, 46.9, 47. , 47.1, 47.2,\n",
       "       47.3, 47.4, 47.5, 47.6, 47.7, 47.8, 47.9, 48. , 48.1, 48.2, 48.3,\n",
       "       48.4, 48.5, 48.6, 48.7, 48.8, 48.9, 49. , 49.1, 49.2, 49.3, 49.4,\n",
       "       49.5, 49.6, 49.7, 49.8, 49.9, 50. , 50.1, 50.2, 50.3, 50.4, 50.5,\n",
       "       50.6, 50.7, 50.8, 50.9, 51. , 51.1, 51.2, 51.3, 51.4, 51.5, 51.6,\n",
       "       51.7, 51.8, 51.9, 52. , 52.1, 52.2, 52.3, 52.4, 52.5, 52.6, 52.7,\n",
       "       52.8, 52.9, 53. , 53.1, 53.2, 53.3, 53.4, 53.5, 53.6, 53.7, 53.8,\n",
       "       53.9, 54. , 54.1, 54.2, 54.3, 54.4, 54.5, 54.6, 54.7, 54.8, 54.9,\n",
       "       55. , 55.1, 55.2, 55.3, 55.4, 55.5, 55.6, 55.7, 55.8, 55.9, 56. ,\n",
       "       56.1, 56.2, 56.3, 56.4, 56.5, 56.6, 56.7, 56.8, 56.9, 57. , 57.1,\n",
       "       57.2, 57.3, 57.4, 57.5, 57.6, 57.7, 57.8, 57.9, 58. , 58.1, 58.2,\n",
       "       58.3, 58.4, 58.5, 58.6, 58.7, 58.8, 58.9, 59. , 59.1, 59.2, 59.3,\n",
       "       59.4, 59.5, 59.6, 59.7, 59.8, 59.9, 60. , 60.1, 60.2, 60.3, 60.4,\n",
       "       60.5, 60.6, 60.7, 60.8, 60.9, 61. , 61.1, 61.2, 61.3, 61.4, 61.5,\n",
       "       61.6, 61.7, 61.8, 61.9, 62. , 62.1, 62.2, 62.3, 62.4, 62.5, 62.6,\n",
       "       62.7, 62.8, 62.9, 63. , 63.1, 63.2, 63.3, 63.4, 63.5, 63.6, 63.7,\n",
       "       63.8, 63.9, 64. , 64.1, 64.2, 64.3, 64.4, 64.5, 64.6, 64.7, 64.8,\n",
       "       64.9, 65. , 65.1, 65.2, 65.3, 65.4, 65.5, 65.6, 65.7, 65.8, 65.9,\n",
       "       66. , 66.1, 66.2, 66.3, 66.4, 66.5, 66.6, 66.7, 66.8, 66.9, 67. ,\n",
       "       67.1, 67.2, 67.3, 67.4, 67.5, 67.6, 67.7, 67.8, 67.9, 68. , 68.1,\n",
       "       68.2, 68.3, 68.4, 68.5, 68.6, 68.7, 68.8, 68.9, 69. , 69.1, 69.2,\n",
       "       69.3, 69.4, 69.5, 69.6, 69.7, 69.8, 69.9, 70. , 70.1, 70.2, 70.3,\n",
       "       70.4, 70.5, 70.6, 70.7, 70.8, 70.9, 71. , 71.1, 71.2, 71.3, 71.4,\n",
       "       71.5, 71.6, 71.7, 71.8, 71.9, 72. , 72.1, 72.2, 72.3, 72.4, 72.5,\n",
       "       72.6, 72.7, 72.8, 72.9, 73. , 73.1, 73.2, 73.3, 73.4, 73.5, 73.6,\n",
       "       73.7, 73.8, 73.9, 74. , 74.1, 74.2, 74.3, 74.4, 74.5, 74.6, 74.7,\n",
       "       74.8, 74.9, 75. , 75.1, 75.2, 75.3, 75.4, 75.5, 75.6, 75.7, 75.8,\n",
       "       75.9, 76. , 76.1, 76.2, 76.3, 76.4, 76.5, 76.6, 76.7, 76.8, 76.9,\n",
       "       77. , 77.1, 77.2, 77.3, 77.4, 77.5, 77.6, 77.7, 77.8, 77.9, 78. ,\n",
       "       78.1, 78.2, 78.3, 78.4, 78.5, 78.6, 78.7, 78.8, 78.9, 79. , 79.1,\n",
       "       79.2, 79.3, 79.4, 79.5, 79.6, 79.7, 79.8, 79.9, 80. , 80.1, 80.2,\n",
       "       80.3, 80.4, 80.5, 80.6, 80.7, 80.8, 80.9, 81. , 81.1, 81.2, 81.3,\n",
       "       81.4, 81.5, 81.6, 81.7, 81.8, 81.9, 82. , 82.1, 82.2, 82.3, 82.4,\n",
       "       82.5, 82.6, 82.7, 82.8, 82.9, 83. , 83.1, 83.2, 83.3, 83.4, 83.5,\n",
       "       83.6, 83.7, 83.8, 83.9, 84. , 84.1, 84.2, 84.3, 84.4, 84.5, 84.6,\n",
       "       84.7, 84.8, 84.9, 85. , 85.1, 85.2, 85.3, 85.4, 85.5, 85.6, 85.7,\n",
       "       85.8, 85.9, 86. , 86.1, 86.2, 86.3, 86.4, 86.5, 86.6, 86.7, 86.8,\n",
       "       86.9, 87. , 87.1, 87.2, 87.3, 87.4, 87.5, 87.6, 87.7, 87.8, 87.9,\n",
       "       88. , 88.1, 88.2, 88.3, 88.4, 88.5, 88.6, 88.7, 88.8, 88.9, 89. ,\n",
       "       89.1, 89.2, 89.3, 89.4, 89.5, 89.6, 89.7, 89.8, 89.9, 90. , 90.1,\n",
       "       90.2, 90.3, 90.4, 90.5, 90.6, 90.7, 90.8, 90.9, 91. , 91.1, 91.2,\n",
       "       91.3, 91.4, 91.5, 91.6, 91.7, 91.8, 91.9, 92. , 92.1, 92.2, 92.3,\n",
       "       92.4, 92.5, 92.6, 92.7, 92.8, 92.9, 93. , 93.1, 93.2, 93.3, 93.4,\n",
       "       93.5, 93.6, 93.7, 93.8, 93.9, 94. , 94.1, 94.2, 94.3, 94.4, 94.5,\n",
       "       94.6, 94.7, 94.8, 94.9, 95. , 95.1, 95.2, 95.3, 95.4, 95.5, 95.6,\n",
       "       95.7, 95.8, 95.9, 96. , 96.1, 96.2, 96.3, 96.4, 96.5, 96.6, 96.7,\n",
       "       96.8, 96.9, 97. , 97.1, 97.2, 97.3, 97.4, 97.5, 97.6, 97.7, 97.8,\n",
       "       97.9, 98. , 98.1, 98.2, 98.3, 98.4, 98.5, 98.6, 98.7, 98.8, 98.9,\n",
       "       99. , 99.1, 99.2, 99.3, 99.4, 99.5, 99.6, 99.7, 99.8, 99.9])"
      ]
     },
     "execution_count": 58,
     "metadata": {},
     "output_type": "execute_result"
    }
   ],
   "source": []
  },
  {
   "cell_type": "code",
   "execution_count": 59,
   "id": "e2fe0c22",
   "metadata": {},
   "outputs": [
    {
     "data": {
      "text/plain": [
       "array([ 4.39959236e-01, -1.37469673e+00,  1.00276692e+00,  4.41546378e-01,\n",
       "        2.57585288e-01,  4.81345688e-01,  1.12196067e+00,  6.08930278e-01,\n",
       "        3.57996591e-01,  2.04921747e-02,  6.19407701e-01,  8.23810557e-01,\n",
       "        8.18841511e-01, -2.44180003e-01,  6.54950531e-02,  5.85488661e-01,\n",
       "        1.89629089e-01,  3.96361779e-01,  1.31460647e+00,  9.63223519e-01,\n",
       "        1.80589841e+00,  1.14192026e+00,  5.86753812e-01,  1.71600307e+00,\n",
       "        5.15776179e-01,  1.03804049e+00,  7.32548600e-01,  5.35135616e-01,\n",
       "       -1.16957256e-01,  4.73743035e-01,  6.41999653e-01,  9.14711369e-01,\n",
       "       -2.93469736e-01,  1.27935717e+00, -1.31236503e+00, -1.45017100e+00,\n",
       "       -9.52225858e-01, -7.30423739e-01, -1.05863712e-01, -6.86642721e-01,\n",
       "       -8.31796746e-01, -9.90247190e-01,  2.35867573e-01, -6.01757896e-01,\n",
       "       -1.64238654e+00, -3.65846581e-01, -3.39235344e-01, -6.28475729e-01,\n",
       "       -7.34341717e-01, -5.97991523e-01, -1.57111710e+00, -6.65091152e-01,\n",
       "       -8.45651486e-01, -1.14643552e+00, -7.09476135e-01, -6.55030931e-01,\n",
       "       -1.85689455e-01,  3.60517211e-01, -1.24268384e+00, -2.73468369e-01,\n",
       "       -6.04951946e-03, -5.92352253e-01, -6.47568436e-01, -9.40244476e-02,\n",
       "        6.21337319e-01, -2.49523573e-01,  2.78307862e-01,  1.26326672e+00,\n",
       "        8.08662328e-01,  1.21000842e+00,  3.94130109e-01,  8.52876482e-01,\n",
       "        7.85829556e-02,  1.31768670e+00,  1.56577308e+00,  1.17247754e+00,\n",
       "        1.26670571e+00,  1.12716086e+00,  1.29607602e+00,  1.22253753e+00,\n",
       "        1.44998537e+00,  1.48017565e+00,  1.05613444e+00,  4.47225821e-01,\n",
       "        4.47551037e-01,  1.10085724e+00,  1.35947925e+00,  7.30201039e-01,\n",
       "        7.80512374e-01, -3.41596170e-01,  3.76272635e-01,  1.50614667e-01,\n",
       "        5.39309987e-01,  4.87512968e-01,  2.07452448e-02, -2.36168811e-01,\n",
       "       -5.75849504e-01,  2.55224540e-01,  2.37502632e-02, -6.24905765e-01,\n",
       "       -1.45869861e+00, -1.70020009e+00, -1.15279156e+00, -1.18071200e+00,\n",
       "       -8.83379443e-01, -2.25841020e-01, -1.53216039e+00, -5.25787547e-01,\n",
       "       -1.73321234e+00, -1.66907718e+00, -6.77406311e-01, -9.05601690e-01,\n",
       "       -1.32087937e+00, -3.85812415e-01, -1.17904116e+00, -4.29237370e-01,\n",
       "       -1.17670936e-01, -4.63143401e-01, -6.78156487e-01,  2.98760551e-01,\n",
       "       -2.52574181e-01, -3.04552352e-01, -4.64557553e-01, -1.25923215e+00,\n",
       "       -6.51425120e-01,  4.68701483e-01,  5.36341455e-01,  5.78448473e-01,\n",
       "        1.30760295e-03,  4.95000163e-01,  3.16523516e-01,  8.11885307e-01,\n",
       "        5.72680406e-01,  8.74307744e-01,  1.13541512e+00,  1.45215195e+00,\n",
       "        6.47869376e-01,  1.10617529e+00,  1.15310611e+00,  1.40247675e+00,\n",
       "        1.34741991e+00,  1.25515595e+00,  1.81873501e+00,  2.23585274e-01,\n",
       "       -3.12141926e-01,  1.09533022e+00,  1.28696769e+00,  5.21934128e-01,\n",
       "        3.12741815e-01,  1.50188696e+00,  1.33815563e+00,  4.71269559e-01,\n",
       "        5.33075609e-01,  4.53354597e-01,  6.95208743e-01,  2.07542372e-01,\n",
       "        1.03714979e+00,  4.56468496e-01,  6.09437398e-02, -7.96592717e-01,\n",
       "       -2.90572746e-01, -5.16402081e-01, -7.59842213e-01, -1.23229274e+00,\n",
       "       -3.80045771e-01, -1.36064960e-01, -2.73843836e-01, -1.47438393e+00,\n",
       "       -3.53989998e-01, -2.01488113e+00, -5.63882920e-01, -1.57513487e+00,\n",
       "       -1.36951336e+00, -3.71089760e-01, -3.79842363e-01, -3.17396161e-01,\n",
       "       -6.23634048e-01, -1.42536725e+00, -1.55452138e+00, -6.16073266e-01,\n",
       "       -9.71337923e-01, -8.34425299e-01, -8.02028242e-01, -4.96244064e-01,\n",
       "       -4.37142818e-01, -1.16509921e-01, -2.72037986e-01, -1.04971150e+00,\n",
       "        6.08153948e-02,  3.94872831e-01,  3.20248524e-01,  1.16494502e-02,\n",
       "       -1.11855406e-01,  4.54186196e-01,  2.25233384e-01,  4.72552456e-01,\n",
       "        1.47591505e+00, -3.22035608e-01,  1.25524152e+00,  9.63024632e-01,\n",
       "        1.21316919e+00,  9.80708126e-01,  1.38038863e+00,  5.91918257e-01,\n",
       "       -8.72054532e-02,  1.51933444e+00,  8.90237103e-01,  6.46988017e-01,\n",
       "        8.73311389e-01,  1.33139621e+00,  1.23269790e+00, -1.23735485e-01,\n",
       "        1.35414694e+00,  1.27883068e+00, -9.46337214e-02,  1.05182710e-02,\n",
       "        1.12252765e+00,  1.36797392e+00,  1.10667569e-01,  9.00629680e-01,\n",
       "        1.26875789e-01, -4.84574121e-01, -4.06186131e-02, -4.24938371e-01,\n",
       "       -1.14855557e+00, -8.60281964e-01, -1.09203747e-01, -2.12427715e-01,\n",
       "        1.48931372e-02, -4.97011580e-01, -9.28569109e-01, -6.08564219e-01,\n",
       "       -1.56037431e+00, -1.29521673e+00, -1.24757482e+00, -1.62303366e+00,\n",
       "       -2.00527937e-01, -8.15095981e-01, -1.21734140e+00, -9.86509980e-01,\n",
       "       -1.01341525e+00, -1.12833487e+00, -2.56877681e-01, -5.62852187e-01,\n",
       "       -1.46622849e+00, -4.48999794e-01, -7.08335004e-01,  2.12681524e-01,\n",
       "        1.44350763e-02, -1.00444511e+00,  6.96410757e-01,  2.65834475e-01,\n",
       "        3.33458183e-01,  5.40401534e-01,  2.75236165e-01,  3.86483523e-01,\n",
       "        5.53808390e-01,  4.78207897e-01,  4.71461116e-01,  9.53556691e-01,\n",
       "        5.54309498e-01,  1.51418284e+00,  1.18931018e+00,  1.95205916e-01,\n",
       "        1.25414223e-01,  1.53712034e+00,  7.15262636e-01,  7.53610585e-01,\n",
       "        1.21972533e+00,  5.62484314e-01,  1.34427377e+00,  1.30592234e+00,\n",
       "        3.78966520e-01,  2.78171365e-01,  2.06992740e-01,  8.70660946e-01,\n",
       "        3.35868028e-01,  7.91796096e-01,  6.77810650e-01,  2.44491671e-01,\n",
       "       -7.92797076e-02,  8.59239161e-01,  1.67478146e-01, -8.61407401e-01,\n",
       "       -4.98221353e-01, -3.78783113e-01,  4.12857808e-01, -1.43273192e-01,\n",
       "       -2.86181399e-01, -7.02217626e-01, -9.29483362e-01, -6.23117589e-01,\n",
       "       -1.09367990e+00, -1.43949065e+00, -1.53716159e+00, -8.52860712e-01,\n",
       "       -4.51875218e-01, -8.05325038e-01, -1.57086996e+00, -1.95181998e+00,\n",
       "       -8.42137136e-01, -8.78813678e-01, -7.02417839e-01, -9.76169352e-01,\n",
       "       -4.73974450e-01, -7.09085719e-01,  1.41530897e-01, -1.53298724e-01,\n",
       "       -3.15975158e-01, -8.45572046e-02, -5.28805276e-01, -8.94127998e-01,\n",
       "        2.00418032e-01, -1.24542228e+00,  1.73150623e-01, -2.94044566e-02,\n",
       "        1.11464458e+00, -2.93468674e-01,  1.22176439e-01,  4.31583447e-01,\n",
       "        5.55587077e-01, -3.26070705e-01,  6.72636279e-01,  2.62595944e-01,\n",
       "        3.55096126e-01,  1.22988976e+00,  1.36048018e+00,  8.41375199e-01,\n",
       "        6.89208043e-01,  1.02458810e+00,  1.44408157e+00,  1.15869582e+00,\n",
       "        1.15152174e+00,  8.71348603e-01,  1.43247157e+00,  1.28390545e-01,\n",
       "        5.01875180e-01,  5.55679703e-01,  1.53546390e+00,  7.58240940e-02,\n",
       "        7.54184949e-01,  6.84942519e-01, -7.49901198e-01,  1.84066756e+00,\n",
       "        1.35692578e-01,  1.68011846e-01,  3.79344286e-01,  1.84546743e-01,\n",
       "       -3.27180428e-01, -1.28955473e+00, -3.10244090e-01, -6.33227611e-02,\n",
       "       -1.32423218e+00, -5.75164355e-01, -2.60881790e-02, -8.48990426e-01,\n",
       "       -1.18892529e+00, -1.65211638e+00, -1.25209063e+00, -1.18257787e+00,\n",
       "       -3.70660868e-01, -1.73866506e+00, -4.08312599e-01, -9.87404623e-01,\n",
       "       -1.00075784e+00, -1.09411290e+00, -9.96063002e-01, -3.74307713e-01,\n",
       "       -7.96938978e-01,  3.19865511e-01, -1.09521085e+00, -7.99669670e-01,\n",
       "       -6.34837370e-01,  1.78585705e-02, -3.60819889e-01, -4.39191521e-01,\n",
       "        1.19978577e-01, -1.78394270e-01, -5.39778275e-02,  1.02192760e-01,\n",
       "        2.69565100e-01,  2.37153431e-02,  4.91182827e-01,  5.93150050e-01,\n",
       "        4.75788971e-01,  1.01094568e+00,  6.78727147e-01,  9.71023971e-01,\n",
       "        1.78291484e+00,  7.72706225e-01,  9.43710376e-01,  7.03297012e-01,\n",
       "        1.53368564e+00,  9.88162503e-01,  5.55065748e-01,  9.10197934e-01,\n",
       "        1.73620164e+00,  1.78168636e+00,  4.81038824e-01,  1.53233734e-01,\n",
       "        2.31642320e-01,  1.11588561e+00,  1.70482988e+00,  7.52264645e-01,\n",
       "        5.96597918e-01,  5.19561789e-01,  4.69806815e-01,  7.42209209e-01,\n",
       "       -2.58504650e-01,  8.04667720e-01, -1.28746739e-01, -1.10565539e-01,\n",
       "       -1.46378751e+00, -3.97956191e-01, -1.16217947e+00, -6.81716210e-01,\n",
       "       -8.03013624e-01, -6.03706469e-01, -2.20578326e+00, -6.85614725e-01,\n",
       "       -1.73161586e+00, -8.94020108e-01, -4.27053068e-01, -9.73651249e-01,\n",
       "       -4.22694893e-01, -1.06287684e+00, -4.33485807e-01, -1.33549927e+00,\n",
       "        4.12118401e-02, -3.61552217e-01, -1.09176776e+00, -5.23706367e-01,\n",
       "       -4.79381075e-01, -8.57521177e-01, -2.09736584e-01, -3.26400513e-01,\n",
       "       -1.66754631e-01, -6.25286175e-01, -7.44853812e-02, -4.38350095e-01,\n",
       "       -5.21301739e-01,  1.11960795e+00,  1.31864933e-01,  8.58763472e-01,\n",
       "        3.84878343e-01,  1.43116980e+00,  4.27976734e-01,  6.37784177e-01,\n",
       "        1.04806209e+00,  1.11654754e+00,  6.34995633e-01,  1.04074591e+00,\n",
       "        1.25713278e+00,  1.14396912e+00,  9.05000810e-01,  3.70604904e-01,\n",
       "        1.09044093e+00,  8.76093040e-01,  1.85993531e+00,  1.48853837e+00,\n",
       "        5.17323525e-01,  5.60892726e-01,  1.01821200e+00,  1.23446416e+00,\n",
       "        1.83328178e-01,  1.50213872e+00,  7.93185895e-01,  6.59696826e-01,\n",
       "        1.53477661e-01,  7.83582511e-01, -4.71370166e-01, -5.57253527e-01,\n",
       "        4.70266504e-01, -5.17694302e-01, -1.02140854e+00, -1.18544479e-01,\n",
       "       -6.03529428e-01,  3.82698075e-01, -3.49915582e-01,  4.08364879e-01,\n",
       "       -1.22746387e+00, -1.11252800e+00, -1.65967022e+00, -1.06129510e+00,\n",
       "       -1.53299946e+00, -9.08227340e-01, -6.74447915e-01, -1.11774775e+00,\n",
       "       -5.04086011e-01, -1.54999756e+00, -1.18763928e+00, -5.81071536e-01,\n",
       "       -1.39269650e+00, -3.72008598e-01, -2.16604604e-01, -9.08480153e-01,\n",
       "       -6.69930910e-01, -8.92809423e-01, -7.12239416e-01, -5.73144965e-02,\n",
       "       -2.18353880e-02,  3.15932759e-01,  3.78576384e-01,  4.70238914e-01,\n",
       "        2.89644951e-01,  6.58224820e-01,  1.32271780e+00, -1.29839442e-01,\n",
       "        7.27712435e-01,  1.02868638e+00,  9.15099901e-01,  1.94899341e+00,\n",
       "        9.70424978e-01,  1.42757199e+00,  1.56169740e+00,  1.14940850e+00,\n",
       "        1.34076646e+00, -5.01774405e-02,  8.86010601e-01,  1.48246550e+00,\n",
       "        1.29996210e+00,  1.86130381e-01,  9.50748565e-01,  4.81707541e-01,\n",
       "        6.90254895e-01, -1.82570336e-01,  8.32758752e-01,  1.14818810e+00,\n",
       "        2.64065405e-01,  1.70675638e-01,  6.28165660e-01,  3.37475466e-01,\n",
       "       -1.13615092e-01,  2.04745736e-01,  3.29660473e-01,  4.27765730e-02,\n",
       "        3.02889229e-02, -1.01890017e+00, -2.23079122e-01, -1.89153639e-01,\n",
       "       -2.17584833e-01, -1.53065132e-01, -7.82121870e-01, -9.54286074e-01,\n",
       "       -3.37001536e-01, -1.07076463e+00, -1.24100010e+00, -6.10624886e-01,\n",
       "       -8.19123407e-01, -1.81527638e+00, -1.08517898e+00, -1.22234444e+00,\n",
       "       -1.18030164e+00, -2.44243341e-01, -6.22569250e-01, -6.43673095e-01,\n",
       "       -7.68235817e-01, -1.50313224e+00, -4.42676721e-01, -9.33750720e-01,\n",
       "       -6.50017452e-01, -4.43180452e-01, -1.04232492e+00,  4.45565108e-01,\n",
       "       -8.33206921e-01,  1.10773032e+00, -1.29542514e-01,  6.23946030e-01,\n",
       "        9.81284263e-02,  1.97260256e-01, -2.71790241e-02,  7.66896356e-01,\n",
       "        4.85987334e-01,  9.43982057e-01,  7.05979737e-01,  5.14209504e-03,\n",
       "        1.98564282e+00,  1.07791649e-01,  1.23200711e+00,  4.51092670e-01,\n",
       "        1.39757473e+00,  1.11647242e+00,  8.69279345e-01,  9.20073440e-01,\n",
       "        6.71952459e-01,  6.99179203e-01,  3.44897157e-01,  6.89937730e-01,\n",
       "        6.85704605e-01,  8.90505461e-01,  1.63707431e+00,  8.83307436e-01,\n",
       "       -5.23267299e-01,  5.43493243e-01,  6.97910670e-01, -3.51258962e-01,\n",
       "       -2.07343888e-01,  6.11047527e-02, -1.14387608e+00,  3.15495242e-01,\n",
       "       -4.90984722e-01,  5.87603137e-01,  3.10985574e-02, -1.03858421e-01,\n",
       "       -8.40785914e-01,  5.57573349e-01, -6.40383015e-01, -2.81026602e-01,\n",
       "       -1.89494253e+00, -6.64717069e-01, -9.91618856e-01, -1.44796117e+00,\n",
       "       -7.06508646e-01, -1.70768471e+00, -1.00252800e+00, -1.07075631e+00,\n",
       "       -1.49151534e+00, -7.09428752e-01, -1.63625523e-01, -9.18804180e-01,\n",
       "       -3.54444099e-01, -7.05586624e-01, -1.23417827e-02, -2.09696108e-01,\n",
       "       -8.92381842e-01, -8.36821275e-01,  1.23521000e-02,  9.31778124e-01,\n",
       "       -7.70009735e-01, -2.74788887e-01,  2.36549450e-01,  2.95136565e-01,\n",
       "        7.54083929e-01,  9.99127921e-01,  5.99364340e-02,  1.45413968e+00,\n",
       "        4.69103306e-01,  7.77734470e-01,  1.55094770e+00,  7.44228962e-01,\n",
       "        1.76858223e+00,  3.96352867e-01,  1.66393986e+00,  1.99278427e+00,\n",
       "        5.44308209e-01,  8.04474802e-01,  7.21318771e-01,  1.04288023e+00,\n",
       "        2.99613956e-01,  7.99558174e-01,  3.11882369e-01,  6.95322835e-01,\n",
       "        1.56068584e+00,  1.36724325e-01,  1.78964367e-01,  1.13824493e+00,\n",
       "        4.51770557e-01,  3.65552710e-01,  6.11669457e-01,  1.82782203e-01,\n",
       "        6.21548579e-01,  1.05122421e+00,  7.45807561e-01, -1.99020537e-01,\n",
       "       -1.40597782e-01,  1.72624294e-01, -6.48108761e-01, -6.66538126e-01,\n",
       "       -2.42846621e-01, -1.60968413e+00, -1.43508670e+00, -1.75055443e+00,\n",
       "       -2.95004156e-01, -4.69731849e-02, -3.92131194e-01,  2.20019508e-02,\n",
       "       -1.02696214e+00, -8.80708774e-01, -7.52484052e-01, -1.50847365e+00,\n",
       "       -1.21391542e+00, -1.16574262e+00, -6.51085240e-01, -1.06264661e+00,\n",
       "       -4.94233191e-01, -7.91525971e-01, -1.25143136e+00, -5.03202680e-01,\n",
       "       -5.50046508e-01, -1.08789247e+00, -4.11388484e-01, -3.15561618e-01,\n",
       "       -1.00967146e+00, -2.89611321e-02,  1.27091299e+00,  8.64944953e-01,\n",
       "        2.72810335e-01,  5.42422916e-01,  1.10695683e+00,  1.97236047e+00,\n",
       "        6.85295441e-01,  1.22062957e+00,  1.15087872e+00,  8.53096356e-01,\n",
       "        1.03491410e+00,  1.04579782e+00,  8.91097153e-01,  6.94872312e-01,\n",
       "        9.43346163e-01,  6.93943675e-01,  1.41488475e+00,  1.40654174e+00,\n",
       "        1.32154793e+00,  1.82421165e+00,  1.15850735e+00,  5.46706933e-01,\n",
       "        3.20227663e-01,  8.55787514e-01,  9.53709010e-01,  5.09114476e-01,\n",
       "        9.57075528e-01,  3.24800476e-01, -2.62144095e-01, -2.30669925e-01,\n",
       "        2.51618922e-01, -3.56071560e-01,  9.80589783e-02,  1.73134855e-01,\n",
       "       -6.40739430e-01, -4.70409752e-01, -5.99163840e-01, -7.61567763e-01,\n",
       "       -1.20770612e+00, -5.51975697e-01, -1.08356278e+00, -6.33851628e-01,\n",
       "       -5.04824114e-01, -7.24618269e-01, -1.30832878e+00, -1.10579180e+00,\n",
       "       -8.36737472e-01, -1.20760540e+00, -1.51830734e+00, -1.70887021e+00,\n",
       "       -1.06543383e+00, -1.09797527e+00, -2.33111860e+00, -1.54537592e+00,\n",
       "       -1.52669102e+00, -2.23102825e-01, -1.07125178e+00, -4.61465372e-02,\n",
       "       -1.46532931e-01,  3.77934716e-03, -6.89142514e-01,  7.29912814e-01,\n",
       "        9.69504867e-01,  3.82327853e-01, -2.64381122e-01,  7.48570684e-01,\n",
       "        1.35881046e+00,  1.25779377e+00,  1.13724390e+00,  7.75885563e-01,\n",
       "        3.69212730e-01,  1.69059451e+00,  1.45677762e+00,  8.35504450e-01,\n",
       "        1.74355621e+00,  1.06790114e-01,  1.05653856e+00,  7.76983931e-01,\n",
       "        2.88581740e-01,  9.74072521e-01,  8.24425951e-01,  4.50173350e-01,\n",
       "        1.04955078e+00,  7.79816419e-01,  1.08616494e+00,  2.59859160e-01,\n",
       "       -1.09331842e-01,  3.61583380e-01,  5.47726506e-01,  4.57756284e-01,\n",
       "        2.45432742e-01,  2.85135970e-01,  6.97003138e-01,  8.35583733e-02,\n",
       "       -7.68442424e-01, -7.01042564e-01,  1.55738651e-01, -1.21714851e+00,\n",
       "       -4.01297192e-01, -1.84392533e+00, -1.22786837e+00, -1.67575560e+00,\n",
       "       -1.26974635e+00, -1.87185597e+00, -9.79747501e-01, -9.74070091e-01,\n",
       "       -1.20910313e+00, -7.90174066e-01, -1.40162002e+00, -9.80931564e-01,\n",
       "       -1.25000302e+00, -2.77217775e-01, -1.46850664e+00, -1.18809111e+00,\n",
       "       -1.47736417e+00, -3.90380192e-01, -1.72214967e+00, -5.40539530e-01,\n",
       "       -1.25214409e+00, -4.97824747e-01,  9.36700673e-03, -2.49318670e-01,\n",
       "       -3.56145117e-01, -2.45543167e-01,  8.58974510e-03,  5.28324950e-01,\n",
       "        5.57586009e-01,  3.53794560e-02,  3.29820287e-01,  9.62789609e-01,\n",
       "        6.83497124e-01,  8.62210452e-01,  6.99597164e-01,  2.06546487e+00,\n",
       "        8.62948878e-01,  2.28095750e-01,  5.27225439e-01,  1.57728776e+00,\n",
       "        1.64865741e+00,  1.30584824e+00,  6.95768862e-01,  8.67673299e-01,\n",
       "        1.40279331e+00,  3.93432413e-01,  4.54302698e-01,  7.36271298e-01,\n",
       "        1.20501484e+00,  7.73122980e-01,  5.28208504e-02,  1.44346085e+00,\n",
       "        5.63226668e-01,  1.06817677e+00,  8.47044516e-01,  5.63775706e-01,\n",
       "        4.15945287e-01, -7.70965280e-01, -7.28412585e-01, -1.25390394e+00,\n",
       "       -8.47298780e-01, -1.47813518e+00, -1.05913922e+00, -6.77822286e-01,\n",
       "       -1.45296198e+00, -7.56237889e-01, -5.95499607e-01, -1.24946249e+00,\n",
       "       -6.75587366e-01, -2.47122975e-01, -1.45294844e+00, -1.22272932e+00,\n",
       "       -1.19337924e+00, -1.20357401e+00, -1.50733648e+00, -2.21584679e-01,\n",
       "       -7.45420615e-01, -4.75870525e-02, -1.95717279e+00, -6.82142985e-01,\n",
       "       -6.97321841e-01, -7.61534037e-02, -8.90652052e-02, -8.71923135e-01,\n",
       "        6.47360781e-01,  1.19826234e-01, -3.58833735e-01,  9.48069346e-02,\n",
       "        9.85212944e-02,  1.99243184e-02,  6.91568448e-01, -9.48238623e-01,\n",
       "        2.57092741e-01,  1.13993988e+00,  9.27878540e-01,  4.94773058e-01,\n",
       "        8.91084233e-01,  8.73138922e-02,  1.28905966e+00,  8.91964337e-01,\n",
       "        9.67557404e-01,  1.48412462e+00,  9.63096719e-01,  1.25748211e+00,\n",
       "        9.19731766e-01,  6.71893139e-01,  2.75229230e-01,  2.04435935e-01,\n",
       "        2.63449696e+00,  2.92079177e-02, -2.78915016e-01,  8.44196952e-01,\n",
       "        1.26536095e+00,  1.46347060e-01,  6.72721815e-01,  4.07654803e-01,\n",
       "       -9.81914864e-02,  3.41999045e-01, -5.17388696e-01,  7.17035006e-01,\n",
       "        3.90531859e-02,  1.20466835e+00, -7.23662671e-01, -7.36822257e-01,\n",
       "       -2.03656765e-01, -2.37321931e-01, -9.49353512e-01, -1.25694995e+00,\n",
       "       -8.90378461e-01,  1.20648107e-01, -1.34233856e+00, -8.96042987e-01,\n",
       "       -6.53411572e-01, -8.45900351e-01, -4.29623172e-01, -8.87007382e-01,\n",
       "       -1.09000864e-01, -1.12817446e+00, -3.65844316e-01, -1.84990242e+00,\n",
       "       -4.43369096e-01, -9.41537701e-01, -9.65665886e-02, -1.95910649e-01,\n",
       "       -1.73899106e-01, -2.86567116e-01, -6.38584175e-01, -7.63385603e-02,\n",
       "       -7.52175736e-01, -2.04785571e-01, -3.45851962e-01,  2.90176528e-01,\n",
       "        6.61920583e-01,  5.24009588e-01,  4.99199836e-01,  1.02766114e+00,\n",
       "        5.42387117e-02,  6.20548399e-01,  3.48317463e-01,  1.01839498e+00,\n",
       "        5.48156688e-01,  1.60661109e+00,  6.50392796e-01,  6.46403887e-01,\n",
       "        1.43743101e+00,  8.15365329e-01,  8.19244387e-01,  5.38284516e-01,\n",
       "        1.07305433e+00,  8.14968169e-01,  1.00422870e+00,  1.00442086e+00,\n",
       "        8.32255295e-01,  8.60443906e-01, -3.34523340e-01,  1.70548785e-01,\n",
       "       -5.81422023e-03, -1.79373657e-01,  1.16788362e+00, -3.10128928e-01,\n",
       "       -2.58853065e-01, -1.24350852e-01,  1.24272427e+00, -3.73647364e-01,\n",
       "        7.81914372e-01,  4.13336670e-01,  6.83586367e-01, -4.60626752e-01,\n",
       "       -2.99168251e-01, -4.69562174e-01,  1.05152610e-01, -1.20438499e-01,\n",
       "       -1.54884338e+00, -1.33914662e+00,  3.22030044e-02, -1.48779024e+00,\n",
       "       -3.78975983e-01, -1.21261771e+00, -9.94372656e-01, -6.56453541e-02,\n",
       "       -1.23916309e+00, -1.02593243e+00, -1.13810662e+00, -1.44706215e+00,\n",
       "       -1.34480622e+00, -8.04671717e-01, -8.82912023e-01, -9.88161992e-01])"
      ]
     },
     "execution_count": 59,
     "metadata": {},
     "output_type": "execute_result"
    }
   ],
   "source": []
  },
  {
   "cell_type": "code",
   "execution_count": null,
   "id": "31ac5e25",
   "metadata": {},
   "outputs": [],
   "source": []
  },
  {
   "cell_type": "code",
   "execution_count": null,
   "id": "bda96c35",
   "metadata": {},
   "outputs": [],
   "source": []
  },
  {
   "cell_type": "code",
   "execution_count": null,
   "id": "5af2974e",
   "metadata": {},
   "outputs": [],
   "source": [
    "\n"
   ]
  }
 ],
 "metadata": {
  "kernelspec": {
   "display_name": "conda_amazonei_tensorflow2_p36",
   "language": "python",
   "name": "conda_amazonei_tensorflow2_p36"
  },
  "language_info": {
   "codemirror_mode": {
    "name": "ipython",
    "version": 3
   },
   "file_extension": ".py",
   "mimetype": "text/x-python",
   "name": "python",
   "nbconvert_exporter": "python",
   "pygments_lexer": "ipython3",
   "version": "3.6.13"
  }
 },
 "nbformat": 4,
 "nbformat_minor": 5
}
