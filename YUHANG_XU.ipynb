{
 "cells": [
  {
   "cell_type": "code",
   "execution_count": null,
   "id": "4ad5dafa",
   "metadata": {},
   "outputs": [],
   "source": [
    "import pandas as pd\n",
    "import time \n",
    "rng = pd.date_range('2022/01/04','2022/04/29' ,freq='D').strftime('%Y-%m-%d').tolist()\n",
    "rng.remove('2022-02-28')\n",
    "rng.remove('2022-04-15')\n",
    "rng.remove('2022-04-18')\n",
    "data_list = []\n",
    "for date in rng:\n",
    "    if time.strptime(date,'%Y-%m-%d').tm_wday<5:\n",
    "        print(date)\n",
    "        ##print('https://dsc-mp2022.s3.amazonaws.com/proj-b/dataset-b01/Tst{}tapes.csv'.format(date))\n",
    "        tmp = pd.read_csv('https://dsc-mp2022.s3.amazonaws.com/proj-b/dataset-b01/Tst{}tapes.csv'.format(date),header=  None)\n",
    "        data_list.append(tmp.tail(1))"
   ]
  },
  {
   "cell_type": "code",
   "execution_count": null,
   "id": "1cdcc781",
   "metadata": {},
   "outputs": [],
   "source": [
    "afterday_set = pd.concat(data_list,ignore_index = False)  "
   ]
  },
  {
   "cell_type": "code",
   "execution_count": null,
   "id": "b4fc3d79",
   "metadata": {},
   "outputs": [],
   "source": [
    "afterday_set.head()"
   ]
  },
  {
   "cell_type": "code",
   "execution_count": null,
   "id": "80d50f28",
   "metadata": {},
   "outputs": [],
   "source": [
    "afterday_set[0]= afterday_set[0].apply(lambda x: x[3:])"
   ]
  },
  {
   "cell_type": "code",
   "execution_count": null,
   "id": "891978a6",
   "metadata": {},
   "outputs": [],
   "source": [
    "afterday_set.head()"
   ]
  },
  {
   "cell_type": "code",
   "execution_count": null,
   "id": "c1344653",
   "metadata": {},
   "outputs": [],
   "source": [
    "afterday_set = afterday_set.set_index(keys=[0])"
   ]
  },
  {
   "cell_type": "code",
   "execution_count": null,
   "id": "9d3d0cc5",
   "metadata": {},
   "outputs": [],
   "source": [
    "afterday_set.tail()"
   ]
  },
  {
   "cell_type": "code",
   "execution_count": null,
   "id": "b39127ca",
   "metadata": {},
   "outputs": [],
   "source": [
    "afterday_set.shape"
   ]
  },
  {
   "cell_type": "code",
   "execution_count": null,
   "id": "e90a77af",
   "metadata": {},
   "outputs": [],
   "source": [
    "import matplotlib as plt\n",
    "import seaborn as sns\n",
    "from matplotlib.pylab import style\n",
    "from statsmodels.tsa.arima_model import ARIMA\n",
    "from statsmodels.graphics.tsaplots import plot_acf,plot_pacf"
   ]
  },
  {
   "cell_type": "code",
   "execution_count": null,
   "id": "1154112e",
   "metadata": {},
   "outputs": [],
   "source": [
    "style.use('ggplot')\n",
    "plt.rcParams['axes.unicode_minus'] = False"
   ]
  },
  {
   "cell_type": "code",
   "execution_count": null,
   "id": "9bcb300b",
   "metadata": {},
   "outputs": [],
   "source": [
    "close_price = afterday_set[7]"
   ]
  },
  {
   "cell_type": "code",
   "execution_count": null,
   "id": "72d9b534",
   "metadata": {},
   "outputs": [],
   "source": [
    "afterday_set['price'] = afterday_set[7].apply(lambda x: int(x[-3:]))"
   ]
  },
  {
   "cell_type": "code",
   "execution_count": null,
   "id": "ae342055",
   "metadata": {},
   "outputs": [],
   "source": [
    "afterday_set.head()"
   ]
  },
  {
   "cell_type": "code",
   "execution_count": null,
   "id": "89568e3c",
   "metadata": {},
   "outputs": [],
   "source": [
    "afterday_set['price'].plot(figsize =(12,8))"
   ]
  }
 ],
 "metadata": {
  "kernelspec": {
   "display_name": "Python 3",
   "language": "python",
   "name": "python3"
  },
  "language_info": {
   "codemirror_mode": {
    "name": "ipython",
    "version": 3
   },
   "file_extension": ".py",
   "mimetype": "text/x-python",
   "name": "python",
   "nbconvert_exporter": "python",
   "pygments_lexer": "ipython3",
   "version": "3.8.8"
  }
 },
 "nbformat": 4,
 "nbformat_minor": 5
}
