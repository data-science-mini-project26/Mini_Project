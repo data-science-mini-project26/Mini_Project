{
 "cells": [
  {
   "cell_type": "code",
   "execution_count": null,
   "id": "cf63676a",
   "metadata": {},
   "outputs": [],
   "source": [
    "import pandas as pd\n",
    "import time \n",
    "rng = pd.date_range('2022/01/04','2022/04/29' ,freq='D').strftime('%Y-%m-%d').tolist()\n",
    "rng.remove('2022-02-28')\n",
    "rng.remove('2022-04-15')\n",
    "rng.remove('2022-04-18')\n",
    "data_list = []\n",
    "for date in rng:\n",
    "    if time.strptime(date,'%Y-%m-%d').tm_wday<5:\n",
    "        print(date)\n",
    "        ##print('https://dsc-mp2022.s3.amazonaws.com/proj-b/dataset-b01/Tst{}tapes.csv'.format(date))\n",
    "        tmp = pd.read_csv('https://dsc-mp2022.s3.amazonaws.com/proj-b/dataset-b01/Tst{}tapes.csv'.format(date),header=  None)\n",
    "        data_list.append(tmp.tail(1))"
   ]
  },
  {
   "cell_type": "code",
   "execution_count": null,
   "id": "4ad5dafa",
   "metadata": {},
   "outputs": [],
   "source": [
    "afterday_set = pd.concat(data_list,ignore_index = False)"
   ]
  }
 ],
 "metadata": {
  "kernelspec": {
   "display_name": "Python 3",
   "language": "python",
   "name": "python3"
  },
  "language_info": {
   "codemirror_mode": {
    "name": "ipython",
    "version": 3
   },
   "file_extension": ".py",
   "mimetype": "text/x-python",
   "name": "python",
   "nbconvert_exporter": "python",
   "pygments_lexer": "ipython3",
   "version": "3.8.8"
  }
 },
 "nbformat": 4,
 "nbformat_minor": 5
}
