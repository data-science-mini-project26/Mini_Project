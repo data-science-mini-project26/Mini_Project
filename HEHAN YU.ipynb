{
 "cells": [
  {
   "cell_type": "code",
   "execution_count": 1,
   "id": "688e1c91",
   "metadata": {},
   "outputs": [
    {
     "name": "stdout",
     "output_type": "stream",
     "text": [
      "2022-01-04\n",
      "2022-01-05\n",
      "2022-01-06\n",
      "2022-01-07\n",
      "2022-01-10\n",
      "2022-01-11\n",
      "2022-01-12\n",
      "2022-01-13\n",
      "2022-01-14\n",
      "2022-01-17\n",
      "2022-01-18\n",
      "2022-01-19\n",
      "2022-01-20\n",
      "2022-01-21\n",
      "2022-01-24\n",
      "2022-01-25\n",
      "2022-01-26\n",
      "2022-01-27\n",
      "2022-01-28\n",
      "2022-01-31\n",
      "2022-02-01\n",
      "2022-02-02\n",
      "2022-02-03\n",
      "2022-02-04\n",
      "2022-02-07\n",
      "2022-02-08\n",
      "2022-02-09\n",
      "2022-02-10\n",
      "2022-02-11\n",
      "2022-02-14\n",
      "2022-02-15\n",
      "2022-02-16\n",
      "2022-02-17\n",
      "2022-02-18\n",
      "2022-02-21\n",
      "2022-02-22\n",
      "2022-02-23\n",
      "2022-02-24\n",
      "2022-02-25\n",
      "2022-03-01\n",
      "2022-03-02\n",
      "2022-03-03\n",
      "2022-03-04\n",
      "2022-03-07\n",
      "2022-03-08\n",
      "2022-03-09\n",
      "2022-03-10\n",
      "2022-03-11\n",
      "2022-03-14\n",
      "2022-03-15\n",
      "2022-03-16\n",
      "2022-03-17\n",
      "2022-03-18\n",
      "2022-03-21\n",
      "2022-03-22\n",
      "2022-03-23\n",
      "2022-03-24\n",
      "2022-03-25\n",
      "2022-03-28\n",
      "2022-03-29\n",
      "2022-03-30\n",
      "2022-03-31\n",
      "2022-04-01\n",
      "2022-04-04\n",
      "2022-04-05\n",
      "2022-04-06\n",
      "2022-04-07\n",
      "2022-04-08\n",
      "2022-04-11\n",
      "2022-04-12\n",
      "2022-04-13\n",
      "2022-04-14\n",
      "2022-04-19\n",
      "2022-04-20\n",
      "2022-04-21\n",
      "2022-04-22\n",
      "2022-04-25\n",
      "2022-04-26\n",
      "2022-04-27\n",
      "2022-04-28\n",
      "2022-04-29\n"
     ]
    }
   ],
   "source": [
    "import pandas as pd\n",
    "import time \n",
    "rng = pd.date_range('2022/01/04','2022/04/29' ,freq='D').strftime('%Y-%m-%d').tolist()\n",
    "rng.remove('2022-02-28')\n",
    "rng.remove('2022-04-15')\n",
    "rng.remove('2022-04-18')\n",
    "data_list = []\n",
    "for date in rng:\n",
    "    if time.strptime(date,'%Y-%m-%d').tm_wday<5:\n",
    "        #print(date)\n",
    "        ##print('https://dsc-mp2022.s3.amazonaws.com/proj-b/dataset-b01/Tst{}tapes.csv'.format(date))\n",
    "        tmp = pd.read_csv('https://dsc-mp2022.s3.amazonaws.com/proj-b/dataset-b01/Tst{}tapes.csv'.format(date),header=  None)\n",
    "        data_list.append(tmp.tail(1))\n"
   ]
  },
  {
   "cell_type": "code",
   "execution_count": 3,
   "id": "7292998b",
   "metadata": {},
   "outputs": [],
   "source": [
    "afterday_set = pd.concat(data_list,ignore_index = False)"
   ]
  },
  {
   "cell_type": "code",
   "execution_count": 6,
   "id": "498b996f",
   "metadata": {},
   "outputs": [
    {
     "ename": "NameError",
     "evalue": "name 'prices' is not defined",
     "output_type": "error",
     "traceback": [
      "\u001b[0;31m---------------------------------------------------------------------------\u001b[0m",
      "\u001b[0;31mNameError\u001b[0m                                 Traceback (most recent call last)",
      "\u001b[0;32m<ipython-input-6-26407236881f>\u001b[0m in \u001b[0;36m<module>\u001b[0;34m\u001b[0m\n\u001b[1;32m      1\u001b[0m \u001b[0;32mimport\u001b[0m \u001b[0mplotly\u001b[0m\u001b[0;34m.\u001b[0m\u001b[0mgraph_objects\u001b[0m \u001b[0;32mas\u001b[0m \u001b[0mgo\u001b[0m\u001b[0;34m\u001b[0m\u001b[0;34m\u001b[0m\u001b[0m\n\u001b[0;32m----> 2\u001b[0;31m fig=go.Figure(data=[go.Candlestick(x=prices['DataTime'],\n\u001b[0m\u001b[1;32m      3\u001b[0m                                   \u001b[0mopen\u001b[0m\u001b[0;34m=\u001b[0m\u001b[0mprices\u001b[0m\u001b[0;34m[\u001b[0m\u001b[0;34m'first'\u001b[0m\u001b[0;34m]\u001b[0m\u001b[0;34m,\u001b[0m\u001b[0;34m\u001b[0m\u001b[0;34m\u001b[0m\u001b[0m\n\u001b[1;32m      4\u001b[0m                                   \u001b[0mhigh\u001b[0m\u001b[0;34m=\u001b[0m\u001b[0mprices\u001b[0m\u001b[0;34m[\u001b[0m\u001b[0;34m'max'\u001b[0m\u001b[0;34m]\u001b[0m\u001b[0;34m,\u001b[0m\u001b[0;34m\u001b[0m\u001b[0;34m\u001b[0m\u001b[0m\n\u001b[1;32m      5\u001b[0m                                   \u001b[0mlow\u001b[0m\u001b[0;34m=\u001b[0m\u001b[0mprices\u001b[0m\u001b[0;34m[\u001b[0m\u001b[0;34m'min'\u001b[0m\u001b[0;34m]\u001b[0m\u001b[0;34m,\u001b[0m\u001b[0;34m\u001b[0m\u001b[0;34m\u001b[0m\u001b[0m\n",
      "\u001b[0;31mNameError\u001b[0m: name 'prices' is not defined"
     ]
    }
   ],
   "source": [
    "import plotly.graph_objects as go\n",
    "fig=go.Figure(data=[go.Candlestick(x=prices['DataTime'],\n",
    "                                  open=prices['first'],\n",
    "                                  high=prices['max'],\n",
    "                                  low=prices['min'],\n",
    "                                  close=prices['last'])])\n",
    "fig.show()\n"
   ]
  },
  {
   "cell_type": "code",
   "execution_count": null,
   "id": "14be3776",
   "metadata": {},
   "outputs": [],
   "source": []
  }
 ],
 "metadata": {
  "kernelspec": {
   "display_name": "Python 3",
   "language": "python",
   "name": "python3"
  },
  "language_info": {
   "codemirror_mode": {
    "name": "ipython",
    "version": 3
   },
   "file_extension": ".py",
   "mimetype": "text/x-python",
   "name": "python",
   "nbconvert_exporter": "python",
   "pygments_lexer": "ipython3",
   "version": "3.8.8"
  }
 },
 "nbformat": 4,
 "nbformat_minor": 5
}
